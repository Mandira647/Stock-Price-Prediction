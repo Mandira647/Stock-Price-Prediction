{
  "nbformat": 4,
  "nbformat_minor": 0,
  "metadata": {
    "colab": {
      "name": "stock_price_prediction.ipynb",
      "provenance": []
    },
    "kernelspec": {
      "name": "python3",
      "display_name": "Python 3"
    },
    "language_info": {
      "name": "python"
    }
  },
  "cells": [
    {
      "cell_type": "code",
      "execution_count": 16,
      "metadata": {
        "id": "gfkbVnH7L8hX"
      },
      "outputs": [],
      "source": [
        "import pandas as pd\n",
        "import numpy as np\n",
        "import matplotlib.pyplot as plt"
      ]
    },
    {
      "cell_type": "code",
      "source": [
        "import pandas_datareader as predict\n",
        "key=\"\"\n",
        "df = pdr.get_data_tiingo(\"AAPL\", api_key=key)\n",
        "df.to_csv(\"AAPL.csv\")"
      ],
      "metadata": {
        "id": "VH4kBtWNlRwd"
      },
      "execution_count": null,
      "outputs": []
    },
    {
      "cell_type": "code",
      "source": [
        "df1 = pd.read_csv(\"AAPL.csv\")\n",
        "df1.head(3)"
      ],
      "metadata": {
        "colab": {
          "base_uri": "https://localhost:8080/",
          "height": 277
        },
        "id": "2qujk1opMTEu",
        "outputId": "5b8e7d2f-973b-4127-9ad1-ccb0f5009ddd"
      },
      "execution_count": 11,
      "outputs": [
        {
          "output_type": "execute_result",
          "data": {
            "text/plain": [
              "   Unnamed: 0 symbol                       date    close    high     low  \\\n",
              "0           0   AAPL  2015-05-27 00:00:00+00:00  132.045  132.26  130.05   \n",
              "1           1   AAPL  2015-05-28 00:00:00+00:00  131.780  131.95  131.10   \n",
              "2           2   AAPL  2015-05-29 00:00:00+00:00  130.280  131.45  129.90   \n",
              "\n",
              "     open    volume    adjClose     adjHigh      adjLow     adjOpen  \\\n",
              "0  130.34  45833246  121.682558  121.880685  119.844118  120.111360   \n",
              "1  131.86  30733309  121.438354  121.595013  120.811718  121.512076   \n",
              "2  131.23  50884452  120.056069  121.134251  119.705890  120.931516   \n",
              "\n",
              "   adjVolume  divCash  splitFactor  \n",
              "0   45833246      0.0          1.0  \n",
              "1   30733309      0.0          1.0  \n",
              "2   50884452      0.0          1.0  "
            ],
            "text/html": [
              "\n",
              "  <div id=\"df-13a75e04-501d-457e-b7da-99a6f11f05be\">\n",
              "    <div class=\"colab-df-container\">\n",
              "      <div>\n",
              "<style scoped>\n",
              "    .dataframe tbody tr th:only-of-type {\n",
              "        vertical-align: middle;\n",
              "    }\n",
              "\n",
              "    .dataframe tbody tr th {\n",
              "        vertical-align: top;\n",
              "    }\n",
              "\n",
              "    .dataframe thead th {\n",
              "        text-align: right;\n",
              "    }\n",
              "</style>\n",
              "<table border=\"1\" class=\"dataframe\">\n",
              "  <thead>\n",
              "    <tr style=\"text-align: right;\">\n",
              "      <th></th>\n",
              "      <th>Unnamed: 0</th>\n",
              "      <th>symbol</th>\n",
              "      <th>date</th>\n",
              "      <th>close</th>\n",
              "      <th>high</th>\n",
              "      <th>low</th>\n",
              "      <th>open</th>\n",
              "      <th>volume</th>\n",
              "      <th>adjClose</th>\n",
              "      <th>adjHigh</th>\n",
              "      <th>adjLow</th>\n",
              "      <th>adjOpen</th>\n",
              "      <th>adjVolume</th>\n",
              "      <th>divCash</th>\n",
              "      <th>splitFactor</th>\n",
              "    </tr>\n",
              "  </thead>\n",
              "  <tbody>\n",
              "    <tr>\n",
              "      <th>0</th>\n",
              "      <td>0</td>\n",
              "      <td>AAPL</td>\n",
              "      <td>2015-05-27 00:00:00+00:00</td>\n",
              "      <td>132.045</td>\n",
              "      <td>132.26</td>\n",
              "      <td>130.05</td>\n",
              "      <td>130.34</td>\n",
              "      <td>45833246</td>\n",
              "      <td>121.682558</td>\n",
              "      <td>121.880685</td>\n",
              "      <td>119.844118</td>\n",
              "      <td>120.111360</td>\n",
              "      <td>45833246</td>\n",
              "      <td>0.0</td>\n",
              "      <td>1.0</td>\n",
              "    </tr>\n",
              "    <tr>\n",
              "      <th>1</th>\n",
              "      <td>1</td>\n",
              "      <td>AAPL</td>\n",
              "      <td>2015-05-28 00:00:00+00:00</td>\n",
              "      <td>131.780</td>\n",
              "      <td>131.95</td>\n",
              "      <td>131.10</td>\n",
              "      <td>131.86</td>\n",
              "      <td>30733309</td>\n",
              "      <td>121.438354</td>\n",
              "      <td>121.595013</td>\n",
              "      <td>120.811718</td>\n",
              "      <td>121.512076</td>\n",
              "      <td>30733309</td>\n",
              "      <td>0.0</td>\n",
              "      <td>1.0</td>\n",
              "    </tr>\n",
              "    <tr>\n",
              "      <th>2</th>\n",
              "      <td>2</td>\n",
              "      <td>AAPL</td>\n",
              "      <td>2015-05-29 00:00:00+00:00</td>\n",
              "      <td>130.280</td>\n",
              "      <td>131.45</td>\n",
              "      <td>129.90</td>\n",
              "      <td>131.23</td>\n",
              "      <td>50884452</td>\n",
              "      <td>120.056069</td>\n",
              "      <td>121.134251</td>\n",
              "      <td>119.705890</td>\n",
              "      <td>120.931516</td>\n",
              "      <td>50884452</td>\n",
              "      <td>0.0</td>\n",
              "      <td>1.0</td>\n",
              "    </tr>\n",
              "  </tbody>\n",
              "</table>\n",
              "</div>\n",
              "      <button class=\"colab-df-convert\" onclick=\"convertToInteractive('df-13a75e04-501d-457e-b7da-99a6f11f05be')\"\n",
              "              title=\"Convert this dataframe to an interactive table.\"\n",
              "              style=\"display:none;\">\n",
              "        \n",
              "  <svg xmlns=\"http://www.w3.org/2000/svg\" height=\"24px\"viewBox=\"0 0 24 24\"\n",
              "       width=\"24px\">\n",
              "    <path d=\"M0 0h24v24H0V0z\" fill=\"none\"/>\n",
              "    <path d=\"M18.56 5.44l.94 2.06.94-2.06 2.06-.94-2.06-.94-.94-2.06-.94 2.06-2.06.94zm-11 1L8.5 8.5l.94-2.06 2.06-.94-2.06-.94L8.5 2.5l-.94 2.06-2.06.94zm10 10l.94 2.06.94-2.06 2.06-.94-2.06-.94-.94-2.06-.94 2.06-2.06.94z\"/><path d=\"M17.41 7.96l-1.37-1.37c-.4-.4-.92-.59-1.43-.59-.52 0-1.04.2-1.43.59L10.3 9.45l-7.72 7.72c-.78.78-.78 2.05 0 2.83L4 21.41c.39.39.9.59 1.41.59.51 0 1.02-.2 1.41-.59l7.78-7.78 2.81-2.81c.8-.78.8-2.07 0-2.86zM5.41 20L4 18.59l7.72-7.72 1.47 1.35L5.41 20z\"/>\n",
              "  </svg>\n",
              "      </button>\n",
              "      \n",
              "  <style>\n",
              "    .colab-df-container {\n",
              "      display:flex;\n",
              "      flex-wrap:wrap;\n",
              "      gap: 12px;\n",
              "    }\n",
              "\n",
              "    .colab-df-convert {\n",
              "      background-color: #E8F0FE;\n",
              "      border: none;\n",
              "      border-radius: 50%;\n",
              "      cursor: pointer;\n",
              "      display: none;\n",
              "      fill: #1967D2;\n",
              "      height: 32px;\n",
              "      padding: 0 0 0 0;\n",
              "      width: 32px;\n",
              "    }\n",
              "\n",
              "    .colab-df-convert:hover {\n",
              "      background-color: #E2EBFA;\n",
              "      box-shadow: 0px 1px 2px rgba(60, 64, 67, 0.3), 0px 1px 3px 1px rgba(60, 64, 67, 0.15);\n",
              "      fill: #174EA6;\n",
              "    }\n",
              "\n",
              "    [theme=dark] .colab-df-convert {\n",
              "      background-color: #3B4455;\n",
              "      fill: #D2E3FC;\n",
              "    }\n",
              "\n",
              "    [theme=dark] .colab-df-convert:hover {\n",
              "      background-color: #434B5C;\n",
              "      box-shadow: 0px 1px 3px 1px rgba(0, 0, 0, 0.15);\n",
              "      filter: drop-shadow(0px 1px 2px rgba(0, 0, 0, 0.3));\n",
              "      fill: #FFFFFF;\n",
              "    }\n",
              "  </style>\n",
              "\n",
              "      <script>\n",
              "        const buttonEl =\n",
              "          document.querySelector('#df-13a75e04-501d-457e-b7da-99a6f11f05be button.colab-df-convert');\n",
              "        buttonEl.style.display =\n",
              "          google.colab.kernel.accessAllowed ? 'block' : 'none';\n",
              "\n",
              "        async function convertToInteractive(key) {\n",
              "          const element = document.querySelector('#df-13a75e04-501d-457e-b7da-99a6f11f05be');\n",
              "          const dataTable =\n",
              "            await google.colab.kernel.invokeFunction('convertToInteractive',\n",
              "                                                     [key], {});\n",
              "          if (!dataTable) return;\n",
              "\n",
              "          const docLinkHtml = 'Like what you see? Visit the ' +\n",
              "            '<a target=\"_blank\" href=https://colab.research.google.com/notebooks/data_table.ipynb>data table notebook</a>'\n",
              "            + ' to learn more about interactive tables.';\n",
              "          element.innerHTML = '';\n",
              "          dataTable['output_type'] = 'display_data';\n",
              "          await google.colab.output.renderOutput(dataTable, element);\n",
              "          const docLink = document.createElement('div');\n",
              "          docLink.innerHTML = docLinkHtml;\n",
              "          element.appendChild(docLink);\n",
              "        }\n",
              "      </script>\n",
              "    </div>\n",
              "  </div>\n",
              "  "
            ]
          },
          "metadata": {},
          "execution_count": 11
        }
      ]
    },
    {
      "cell_type": "code",
      "source": [
        "df2 = df1.reset_index()[\"close\"]\n",
        "df2.head(3)"
      ],
      "metadata": {
        "colab": {
          "base_uri": "https://localhost:8080/"
        },
        "id": "eVG_SGcoPVfK",
        "outputId": "673aa9ac-6311-4d53-a88e-bcdce3fe0546"
      },
      "execution_count": 12,
      "outputs": [
        {
          "output_type": "execute_result",
          "data": {
            "text/plain": [
              "0    132.045\n",
              "1    131.780\n",
              "2    130.280\n",
              "Name: close, dtype: float64"
            ]
          },
          "metadata": {},
          "execution_count": 12
        }
      ]
    },
    {
      "cell_type": "code",
      "source": [
        "plt.plot(df2)"
      ],
      "metadata": {
        "colab": {
          "base_uri": "https://localhost:8080/",
          "height": 282
        },
        "id": "s3M6NZ-SNAaU",
        "outputId": "b8b45623-adeb-4497-852f-8dca50015441"
      },
      "execution_count": 14,
      "outputs": [
        {
          "output_type": "execute_result",
          "data": {
            "text/plain": [
              "[<matplotlib.lines.Line2D at 0x7fd275478210>]"
            ]
          },
          "metadata": {},
          "execution_count": 14
        },
        {
          "output_type": "display_data",
          "data": {
            "text/plain": [
              "<Figure size 432x288 with 1 Axes>"
            ],
            "image/png": "[encoded data removed]"
          },
          "metadata": {
            "needs_background": "light"
          }
        }
      ]
    },
    {
      "cell_type": "markdown",
      "source": [
        "We apply MinMax scaler to the data because LSTM are sensitive to scale"
      ],
      "metadata": {
        "id": "LSXXiWurR3So"
      }
    },
    {
      "cell_type": "code",
      "source": [
        "df2"
      ],
      "metadata": {
        "colab": {
          "base_uri": "https://localhost:8080/"
        },
        "id": "eVAXclDbRz69",
        "outputId": "c76efd78-4040-4889-a5de-fb8a38ec7a8d"
      },
      "execution_count": 17,
      "outputs": [
        {
          "output_type": "execute_result",
          "data": {
            "text/plain": [
              "0       132.045\n",
              "1       131.780\n",
              "2       130.280\n",
              "3       130.535\n",
              "4       129.960\n",
              "         ...   \n",
              "1253    314.960\n",
              "1254    313.140\n",
              "1255    319.230\n",
              "1256    316.850\n",
              "1257    318.890\n",
              "Name: close, Length: 1258, dtype: float64"
            ]
          },
          "metadata": {},
          "execution_count": 17
        }
      ]
    },
    {
      "cell_type": "code",
      "source": [
        "from sklearn.preprocessing import MinMaxScaler"
      ],
      "metadata": {
        "id": "OSNYsOzPSHuD"
      },
      "execution_count": 19,
      "outputs": []
    },
    {
      "cell_type": "code",
      "source": [
        "scaler = MinMaxScaler()\n",
        "df3 = scaler.fit_transform(np.array(df2).reshape(-1,1))\n",
        "df3"
      ],
      "metadata": {
        "colab": {
          "base_uri": "https://localhost:8080/"
        },
        "id": "pnjjjCCLSP4W",
        "outputId": "74086e1c-2ca2-4041-e20a-7abfe5fda78b"
      },
      "execution_count": 20,
      "outputs": [
        {
          "output_type": "execute_result",
          "data": {
            "text/plain": [
              "array([[0.17607447],\n",
              "       [0.17495567],\n",
              "       [0.16862282],\n",
              "       ...,\n",
              "       [0.96635143],\n",
              "       [0.9563033 ],\n",
              "       [0.96491598]])"
            ]
          },
          "metadata": {},
          "execution_count": 20
        }
      ]
    },
    {
      "cell_type": "markdown",
      "source": [
        "Splitting dataset into train and test datasets"
      ],
      "metadata": {
        "id": "jWaPNL57TRTK"
      }
    },
    {
      "cell_type": "code",
      "source": [
        "train_size = int(len(df3)*0.7)\n",
        "test_size = len(df3) - train_size\n",
        "train_data, test_data = df3[:train_size, :], df3[train_size:len(df3), :1]"
      ],
      "metadata": {
        "id": "kkSJf92tTO-O"
      },
      "execution_count": 21,
      "outputs": []
    },
    {
      "cell_type": "code",
      "source": [
        "train_size, test_size"
      ],
      "metadata": {
        "colab": {
          "base_uri": "https://localhost:8080/"
        },
        "id": "cpEQlNuCTx9_",
        "outputId": "e9c46017-1190-47dd-c48c-bcd3a7cb60ff"
      },
      "execution_count": 22,
      "outputs": [
        {
          "output_type": "execute_result",
          "data": {
            "text/plain": [
              "(880, 378)"
            ]
          },
          "metadata": {},
          "execution_count": 22
        }
      ]
    },
    {
      "cell_type": "markdown",
      "source": [
        "Convert array into dataset matrix"
      ],
      "metadata": {
        "id": "9dbCNxfbT-G-"
      }
    },
    {
      "cell_type": "code",
      "source": [
        "def dataset_matrix(dataset, time_step=1):\n",
        "  x_data, y_data = [], []\n",
        "  for i in range(len(dataset)-time_step-1):\n",
        "    m = dataset[i:(i+time_step), 0]\n",
        "    x_data.append(m)\n",
        "    y_data.append(dataset[i+time_step, 0])\n",
        "  return np.array(x_data), np.array(y_data)"
      ],
      "metadata": {
        "id": "oh48tA2DT0IK"
      },
      "execution_count": 23,
      "outputs": []
    },
    {
      "cell_type": "code",
      "source": [
        "time_step = 100\n",
        "x_train, y_train = dataset_matrix(train_data, time_step)\n",
        "x_test, y_test = dataset_matrix(test_data, time_step)"
      ],
      "metadata": {
        "id": "kRtsbqtsUnH2"
      },
      "execution_count": 25,
      "outputs": []
    },
    {
      "cell_type": "code",
      "source": [
        "x_train.shape, y_train.shape"
      ],
      "metadata": {
        "colab": {
          "base_uri": "https://localhost:8080/"
        },
        "id": "ncXlnMeOVDSV",
        "outputId": "6e65214a-d190-4f92-dcdf-01c794c22a98"
      },
      "execution_count": 26,
      "outputs": [
        {
          "output_type": "execute_result",
          "data": {
            "text/plain": [
              "((779, 100), (779,))"
            ]
          },
          "metadata": {},
          "execution_count": 26
        }
      ]
    },
    {
      "cell_type": "code",
      "source": [
        "x_test.shape, y_test.shape"
      ],
      "metadata": {
        "colab": {
          "base_uri": "https://localhost:8080/"
        },
        "id": "mHgDsQ12VTIH",
        "outputId": "67346072-ca36-44ba-d62b-c59b498a8e68"
      },
      "execution_count": 27,
      "outputs": [
        {
          "output_type": "execute_result",
          "data": {
            "text/plain": [
              "((277, 100), (277,))"
            ]
          },
          "metadata": {},
          "execution_count": 27
        }
      ]
    },
    {
      "cell_type": "code",
      "source": [
        "x_train = x_train.reshape(x_train.shape[0], x_train.shape[1],1)\n",
        "x_test = x_test.reshape(x_test.shape[0], x_test.shape[1],1)"
      ],
      "metadata": {
        "id": "laDmIL8xViGL"
      },
      "execution_count": 28,
      "outputs": []
    },
    {
      "cell_type": "markdown",
      "source": [
        "**LSTM Model**"
      ],
      "metadata": {
        "id": "W9XZ6cQLWGV_"
      }
    },
    {
      "cell_type": "code",
      "source": [
        "from tensorflow.keras.models import Sequential\n",
        "from tensorflow.keras.layers import Dense\n",
        "from tensorflow.keras.layers import LSTM"
      ],
      "metadata": {
        "id": "g7NJmlhOWKg_"
      },
      "execution_count": 29,
      "outputs": []
    },
    {
      "cell_type": "code",
      "source": [
        "model=Sequential()\n",
        "model.add(LSTM(50,return_sequences=True,input_shape=(100,1)))\n",
        "model.add(LSTM(50,return_sequences=True))\n",
        "model.add(LSTM(50))\n",
        "model.add(Dense(1))\n",
        "model.compile(loss='mean_squared_error',optimizer='adam')"
      ],
      "metadata": {
        "id": "fVnvQpU_WTPG"
      },
      "execution_count": 30,
      "outputs": []
    },
    {
      "cell_type": "code",
      "source": [
        "model.summary()"
      ],
      "metadata": {
        "colab": {
          "base_uri": "https://localhost:8080/"
        },
        "id": "QF1pF3VWWfqu",
        "outputId": "435b9560-3908-477b-a106-804718a1d98a"
      },
      "execution_count": 31,
      "outputs": [
        {
          "output_type": "stream",
          "name": "stdout",
          "text": [
            "Model: \"sequential\"\n",
            "_________________________________________________________________\n",
            " Layer (type)                Output Shape              Param #   \n",
            "=================================================================\n",
            " lstm (LSTM)                 (None, 100, 50)           10400     \n",
            "                                                                 \n",
            " lstm_1 (LSTM)               (None, 100, 50)           20200     \n",
            "                                                                 \n",
            " lstm_2 (LSTM)               (None, 50)                20200     \n",
            "                                                                 \n",
            " dense (Dense)               (None, 1)                 51        \n",
            "                                                                 \n",
            "=================================================================\n",
            "Total params: 50,851\n",
            "Trainable params: 50,851\n",
            "Non-trainable params: 0\n",
            "_________________________________________________________________\n"
          ]
        }
      ]
    },
    {
      "cell_type": "code",
      "source": [
        "model.fit(x_train, y_train, validation_data=(x_test, y_test), epochs=100, batch_size=64, verbose=1)"
      ],
      "metadata": {
        "colab": {
          "base_uri": "https://localhost:8080/"
        },
        "id": "ROv9kYLOWidv",
        "outputId": "1359c5fd-514e-4783-9308-6ed588560127"
      },
      "execution_count": 33,
      "outputs": [
        {
          "output_type": "stream",
          "name": "stdout",
          "text": [
            "Epoch 1/100\n",
            "13/13 [==============================] - 10s 316ms/step - loss: 0.0166 - val_loss: 0.0657\n",
            "Epoch 2/100\n",
            "13/13 [==============================] - 3s 194ms/step - loss: 0.0035 - val_loss: 0.0070\n",
            "Epoch 3/100\n",
            "13/13 [==============================] - 2s 188ms/step - loss: 0.0012 - val_loss: 0.0045\n",
            "Epoch 4/100\n",
            "13/13 [==============================] - 2s 189ms/step - loss: 8.9517e-04 - val_loss: 0.0044\n",
            "Epoch 5/100\n",
            "13/13 [==============================] - 2s 191ms/step - loss: 8.2207e-04 - val_loss: 0.0047\n",
            "Epoch 6/100\n",
            "13/13 [==============================] - 2s 189ms/step - loss: 7.3331e-04 - val_loss: 0.0050\n",
            "Epoch 7/100\n",
            "13/13 [==============================] - 2s 191ms/step - loss: 6.7208e-04 - val_loss: 0.0061\n",
            "Epoch 8/100\n",
            "13/13 [==============================] - 3s 198ms/step - loss: 6.7611e-04 - val_loss: 0.0063\n",
            "Epoch 9/100\n",
            "13/13 [==============================] - 2s 188ms/step - loss: 6.4966e-04 - val_loss: 0.0079\n",
            "Epoch 10/100\n",
            "13/13 [==============================] - 2s 189ms/step - loss: 7.0924e-04 - val_loss: 0.0093\n",
            "Epoch 11/100\n",
            "13/13 [==============================] - 2s 189ms/step - loss: 7.9544e-04 - val_loss: 0.0091\n",
            "Epoch 12/100\n",
            "13/13 [==============================] - 3s 193ms/step - loss: 6.5934e-04 - val_loss: 0.0063\n",
            "Epoch 13/100\n",
            "13/13 [==============================] - 2s 190ms/step - loss: 6.1534e-04 - val_loss: 0.0060\n",
            "Epoch 14/100\n",
            "13/13 [==============================] - 2s 188ms/step - loss: 6.0105e-04 - val_loss: 0.0064\n",
            "Epoch 15/100\n",
            "13/13 [==============================] - 2s 187ms/step - loss: 6.1339e-04 - val_loss: 0.0059\n",
            "Epoch 16/100\n",
            "13/13 [==============================] - 2s 189ms/step - loss: 6.0323e-04 - val_loss: 0.0049\n",
            "Epoch 17/100\n",
            "13/13 [==============================] - 2s 188ms/step - loss: 5.7732e-04 - val_loss: 0.0052\n",
            "Epoch 18/100\n",
            "13/13 [==============================] - 2s 189ms/step - loss: 5.5064e-04 - val_loss: 0.0052\n",
            "Epoch 19/100\n",
            "13/13 [==============================] - 2s 191ms/step - loss: 5.4300e-04 - val_loss: 0.0045\n",
            "Epoch 20/100\n",
            "13/13 [==============================] - 2s 188ms/step - loss: 5.3480e-04 - val_loss: 0.0051\n",
            "Epoch 21/100\n",
            "13/13 [==============================] - 2s 189ms/step - loss: 5.3378e-04 - val_loss: 0.0047\n",
            "Epoch 22/100\n",
            "13/13 [==============================] - 2s 189ms/step - loss: 5.3679e-04 - val_loss: 0.0051\n",
            "Epoch 23/100\n",
            "13/13 [==============================] - 2s 188ms/step - loss: 4.8972e-04 - val_loss: 0.0034\n",
            "Epoch 24/100\n",
            "13/13 [==============================] - 2s 188ms/step - loss: 5.7527e-04 - val_loss: 0.0083\n",
            "Epoch 25/100\n",
            "13/13 [==============================] - 2s 189ms/step - loss: 5.7457e-04 - val_loss: 0.0040\n",
            "Epoch 26/100\n",
            "13/13 [==============================] - 3s 243ms/step - loss: 4.6464e-04 - val_loss: 0.0044\n",
            "Epoch 27/100\n",
            "13/13 [==============================] - 2s 192ms/step - loss: 4.8685e-04 - val_loss: 0.0024\n",
            "Epoch 28/100\n",
            "13/13 [==============================] - 2s 189ms/step - loss: 5.5525e-04 - val_loss: 0.0057\n",
            "Epoch 29/100\n",
            "13/13 [==============================] - 2s 190ms/step - loss: 5.2429e-04 - val_loss: 0.0021\n",
            "Epoch 30/100\n",
            "13/13 [==============================] - 2s 191ms/step - loss: 5.3190e-04 - val_loss: 0.0041\n",
            "Epoch 31/100\n",
            "13/13 [==============================] - 2s 189ms/step - loss: 4.4661e-04 - val_loss: 0.0027\n",
            "Epoch 32/100\n",
            "13/13 [==============================] - 2s 189ms/step - loss: 4.3448e-04 - val_loss: 0.0031\n",
            "Epoch 33/100\n",
            "13/13 [==============================] - 2s 191ms/step - loss: 4.3098e-04 - val_loss: 0.0039\n",
            "Epoch 34/100\n",
            "13/13 [==============================] - 2s 193ms/step - loss: 4.3583e-04 - val_loss: 0.0066\n",
            "Epoch 35/100\n",
            "13/13 [==============================] - 2s 189ms/step - loss: 4.7756e-04 - val_loss: 0.0033\n",
            "Epoch 36/100\n",
            "13/13 [==============================] - 2s 189ms/step - loss: 4.2014e-04 - val_loss: 0.0023\n",
            "Epoch 37/100\n",
            "13/13 [==============================] - 2s 189ms/step - loss: 4.1002e-04 - val_loss: 0.0043\n",
            "Epoch 38/100\n",
            "13/13 [==============================] - 3s 198ms/step - loss: 4.0311e-04 - val_loss: 0.0028\n",
            "Epoch 39/100\n",
            "13/13 [==============================] - 2s 191ms/step - loss: 3.9555e-04 - val_loss: 0.0020\n",
            "Epoch 40/100\n",
            "13/13 [==============================] - 3s 194ms/step - loss: 4.7273e-04 - val_loss: 0.0044\n",
            "Epoch 41/100\n",
            "13/13 [==============================] - 2s 189ms/step - loss: 4.4402e-04 - val_loss: 0.0020\n",
            "Epoch 42/100\n",
            "13/13 [==============================] - 2s 190ms/step - loss: 3.9130e-04 - val_loss: 0.0048\n",
            "Epoch 43/100\n",
            "13/13 [==============================] - 2s 190ms/step - loss: 4.0052e-04 - val_loss: 0.0019\n",
            "Epoch 44/100\n",
            "13/13 [==============================] - 2s 190ms/step - loss: 4.5579e-04 - val_loss: 0.0059\n",
            "Epoch 45/100\n",
            "13/13 [==============================] - 2s 188ms/step - loss: 3.9328e-04 - val_loss: 0.0021\n",
            "Epoch 46/100\n",
            "13/13 [==============================] - 2s 190ms/step - loss: 5.1607e-04 - val_loss: 0.0055\n",
            "Epoch 47/100\n",
            "13/13 [==============================] - 2s 191ms/step - loss: 4.2150e-04 - val_loss: 0.0020\n",
            "Epoch 48/100\n",
            "13/13 [==============================] - 2s 188ms/step - loss: 3.7873e-04 - val_loss: 0.0049\n",
            "Epoch 49/100\n",
            "13/13 [==============================] - 2s 191ms/step - loss: 3.7233e-04 - val_loss: 0.0030\n",
            "Epoch 50/100\n",
            "13/13 [==============================] - 2s 193ms/step - loss: 3.4178e-04 - val_loss: 0.0021\n",
            "Epoch 51/100\n",
            "13/13 [==============================] - 2s 190ms/step - loss: 3.5008e-04 - val_loss: 0.0031\n",
            "Epoch 52/100\n",
            "13/13 [==============================] - 2s 192ms/step - loss: 3.3525e-04 - val_loss: 0.0030\n",
            "Epoch 53/100\n",
            "13/13 [==============================] - 2s 189ms/step - loss: 3.4695e-04 - val_loss: 0.0028\n",
            "Epoch 54/100\n",
            "13/13 [==============================] - 3s 193ms/step - loss: 3.2933e-04 - val_loss: 0.0028\n",
            "Epoch 55/100\n",
            "13/13 [==============================] - 2s 191ms/step - loss: 3.3005e-04 - val_loss: 0.0020\n",
            "Epoch 56/100\n",
            "13/13 [==============================] - 4s 288ms/step - loss: 3.3235e-04 - val_loss: 0.0037\n",
            "Epoch 57/100\n",
            "13/13 [==============================] - 2s 189ms/step - loss: 3.4347e-04 - val_loss: 0.0020\n",
            "Epoch 58/100\n",
            "13/13 [==============================] - 3s 195ms/step - loss: 3.3731e-04 - val_loss: 0.0015\n",
            "Epoch 59/100\n",
            "13/13 [==============================] - 2s 193ms/step - loss: 3.2874e-04 - val_loss: 0.0025\n",
            "Epoch 60/100\n",
            "13/13 [==============================] - 2s 190ms/step - loss: 2.9941e-04 - val_loss: 0.0020\n",
            "Epoch 61/100\n",
            "13/13 [==============================] - 2s 188ms/step - loss: 3.1509e-04 - val_loss: 0.0013\n",
            "Epoch 62/100\n",
            "13/13 [==============================] - 2s 189ms/step - loss: 4.2261e-04 - val_loss: 0.0058\n",
            "Epoch 63/100\n",
            "13/13 [==============================] - 2s 189ms/step - loss: 3.2596e-04 - val_loss: 0.0016\n",
            "Epoch 64/100\n",
            "13/13 [==============================] - 2s 190ms/step - loss: 2.9474e-04 - val_loss: 0.0040\n",
            "Epoch 65/100\n",
            "13/13 [==============================] - 2s 190ms/step - loss: 3.1028e-04 - val_loss: 0.0015\n",
            "Epoch 66/100\n",
            "13/13 [==============================] - 2s 190ms/step - loss: 2.9386e-04 - val_loss: 0.0023\n",
            "Epoch 67/100\n",
            "13/13 [==============================] - 2s 191ms/step - loss: 2.7382e-04 - val_loss: 0.0027\n",
            "Epoch 68/100\n",
            "13/13 [==============================] - 2s 193ms/step - loss: 2.6678e-04 - val_loss: 0.0023\n",
            "Epoch 69/100\n",
            "13/13 [==============================] - 2s 192ms/step - loss: 2.6558e-04 - val_loss: 0.0016\n",
            "Epoch 70/100\n",
            "13/13 [==============================] - 2s 190ms/step - loss: 2.6122e-04 - val_loss: 0.0023\n",
            "Epoch 71/100\n",
            "13/13 [==============================] - 2s 191ms/step - loss: 2.7064e-04 - val_loss: 0.0012\n",
            "Epoch 72/100\n",
            "13/13 [==============================] - 2s 192ms/step - loss: 2.7880e-04 - val_loss: 0.0021\n",
            "Epoch 73/100\n",
            "13/13 [==============================] - 3s 194ms/step - loss: 2.4955e-04 - val_loss: 0.0017\n",
            "Epoch 74/100\n",
            "13/13 [==============================] - 2s 190ms/step - loss: 2.4945e-04 - val_loss: 0.0023\n",
            "Epoch 75/100\n",
            "13/13 [==============================] - 2s 191ms/step - loss: 2.8769e-04 - val_loss: 0.0016\n",
            "Epoch 76/100\n",
            "13/13 [==============================] - 2s 189ms/step - loss: 2.3432e-04 - val_loss: 0.0015\n",
            "Epoch 77/100\n",
            "13/13 [==============================] - 2s 189ms/step - loss: 2.4906e-04 - val_loss: 0.0014\n",
            "Epoch 78/100\n",
            "13/13 [==============================] - 2s 190ms/step - loss: 2.7852e-04 - val_loss: 0.0028\n",
            "Epoch 79/100\n",
            "13/13 [==============================] - 2s 191ms/step - loss: 2.5713e-04 - val_loss: 0.0026\n",
            "Epoch 80/100\n",
            "13/13 [==============================] - 2s 192ms/step - loss: 2.9599e-04 - val_loss: 0.0011\n",
            "Epoch 81/100\n",
            "13/13 [==============================] - 2s 193ms/step - loss: 2.3238e-04 - val_loss: 0.0018\n",
            "Epoch 82/100\n",
            "13/13 [==============================] - 2s 191ms/step - loss: 2.3531e-04 - val_loss: 0.0034\n",
            "Epoch 83/100\n",
            "13/13 [==============================] - 2s 193ms/step - loss: 2.6448e-04 - val_loss: 0.0011\n",
            "Epoch 84/100\n",
            "13/13 [==============================] - 3s 200ms/step - loss: 2.3512e-04 - val_loss: 0.0025\n",
            "Epoch 85/100\n",
            "13/13 [==============================] - 2s 193ms/step - loss: 2.1700e-04 - val_loss: 0.0014\n",
            "Epoch 86/100\n",
            "13/13 [==============================] - 2s 191ms/step - loss: 2.1207e-04 - val_loss: 0.0011\n",
            "Epoch 87/100\n",
            "13/13 [==============================] - 2s 189ms/step - loss: 2.2861e-04 - val_loss: 0.0012\n",
            "Epoch 88/100\n",
            "13/13 [==============================] - 2s 191ms/step - loss: 2.0270e-04 - val_loss: 0.0025\n",
            "Epoch 89/100\n",
            "13/13 [==============================] - 2s 189ms/step - loss: 2.2126e-04 - val_loss: 0.0010\n",
            "Epoch 90/100\n",
            "13/13 [==============================] - 2s 189ms/step - loss: 2.0817e-04 - val_loss: 0.0015\n",
            "Epoch 91/100\n",
            "13/13 [==============================] - 3s 193ms/step - loss: 1.9568e-04 - val_loss: 0.0016\n",
            "Epoch 92/100\n",
            "13/13 [==============================] - 2s 191ms/step - loss: 2.1698e-04 - val_loss: 0.0019\n",
            "Epoch 93/100\n",
            "13/13 [==============================] - 3s 197ms/step - loss: 2.3592e-04 - val_loss: 0.0011\n",
            "Epoch 94/100\n",
            "13/13 [==============================] - 2s 190ms/step - loss: 2.0276e-04 - val_loss: 0.0015\n",
            "Epoch 95/100\n",
            "13/13 [==============================] - 3s 195ms/step - loss: 1.8986e-04 - val_loss: 0.0018\n",
            "Epoch 96/100\n",
            "13/13 [==============================] - 2s 192ms/step - loss: 2.0071e-04 - val_loss: 0.0010\n",
            "Epoch 97/100\n",
            "13/13 [==============================] - 2s 188ms/step - loss: 1.9045e-04 - val_loss: 0.0011\n",
            "Epoch 98/100\n",
            "13/13 [==============================] - 2s 189ms/step - loss: 2.0890e-04 - val_loss: 9.9732e-04\n",
            "Epoch 99/100\n",
            "13/13 [==============================] - 2s 189ms/step - loss: 2.2924e-04 - val_loss: 0.0014\n",
            "Epoch 100/100\n",
            "13/13 [==============================] - 2s 191ms/step - loss: 2.2159e-04 - val_loss: 0.0025\n"
          ]
        },
        {
          "output_type": "execute_result",
          "data": {
            "text/plain": [
              "<keras.callbacks.History at 0x7fd205a9a510>"
            ]
          },
          "metadata": {},
          "execution_count": 33
        }
      ]
    },
    {
      "cell_type": "code",
      "source": [
        "import tensorflow as tf\n",
        "tf.__version__"
      ],
      "metadata": {
        "colab": {
          "base_uri": "https://localhost:8080/",
          "height": 36
        },
        "id": "f5ENjYg-W3NU",
        "outputId": "b8700a3a-5785-4111-bff3-92de70deeb67"
      },
      "execution_count": 34,
      "outputs": [
        {
          "output_type": "execute_result",
          "data": {
            "text/plain": [
              "'2.8.2'"
            ],
            "application/vnd.google.colaboratory.intrinsic+json": {
              "type": "string"
            }
          },
          "metadata": {},
          "execution_count": 34
        }
      ]
    },
    {
      "cell_type": "markdown",
      "source": [
        "Prediction"
      ],
      "metadata": {
        "id": "4pkgr7ZRgRCv"
      }
    },
    {
      "cell_type": "code",
      "source": [
        "train_predict = model.predict(x_train)\n",
        "test_predict = model.predict(x_test)"
      ],
      "metadata": {
        "id": "tfWN5kjFWzhC"
      },
      "execution_count": 35,
      "outputs": []
    },
    {
      "cell_type": "code",
      "source": [
        "train_predict = scaler.inverse_transform(train_predict)\n",
        "test_predict = scaler.inverse_transform(test_predict)"
      ],
      "metadata": {
        "id": "-GV45__QgcFs"
      },
      "execution_count": 36,
      "outputs": []
    },
    {
      "cell_type": "markdown",
      "source": [
        "Calculating RMSE for performance measurement"
      ],
      "metadata": {
        "id": "e_Cgo3Y3hG4D"
      }
    },
    {
      "cell_type": "code",
      "source": [
        "import math\n",
        "from sklearn.metrics import mean_squared_error\n",
        "# train data RMSE\n",
        "math.sqrt(mean_squared_error(y_train, train_predict))"
      ],
      "metadata": {
        "colab": {
          "base_uri": "https://localhost:8080/"
        },
        "id": "P1YJ5bKzhFcu",
        "outputId": "22ddda6d-0b85-4cde-c14f-eab4ab00882a"
      },
      "execution_count": 37,
      "outputs": [
        {
          "output_type": "execute_result",
          "data": {
            "text/plain": [
              "147.5411997868494"
            ]
          },
          "metadata": {},
          "execution_count": 37
        }
      ]
    },
    {
      "cell_type": "code",
      "source": [
        "# test data RMSE\n",
        "math.sqrt(mean_squared_error(y_test,test_predict))"
      ],
      "metadata": {
        "colab": {
          "base_uri": "https://localhost:8080/"
        },
        "id": "4uasdoq0iCBg",
        "outputId": "70b5801b-6e53-4872-b579-ba95b33602b4"
      },
      "execution_count": 39,
      "outputs": [
        {
          "output_type": "execute_result",
          "data": {
            "text/plain": [
              "240.40391827402064"
            ]
          },
          "metadata": {},
          "execution_count": 39
        }
      ]
    },
    {
      "cell_type": "code",
      "source": [
        "### Plotting \n",
        "# shift train predictions for plotting\n",
        "look_back=100\n",
        "trainPredictPlot = np.empty_like(df3)\n",
        "trainPredictPlot[:, :] = np.nan\n",
        "trainPredictPlot[look_back:len(train_predict)+look_back, :] = train_predict\n",
        "# shift test predictions for plotting\n",
        "testPredictPlot = np.empty_like(df3)\n",
        "testPredictPlot[:, :] = np.nan\n",
        "testPredictPlot[len(train_predict)+(look_back*2)+1:len(df3)-1, :] = test_predict\n",
        "# plot baseline and predictions\n",
        "plt.plot(scaler.inverse_transform(df3))\n",
        "plt.plot(trainPredictPlot)\n",
        "plt.plot(testPredictPlot)\n",
        "plt.show()"
      ],
      "metadata": {
        "colab": {
          "base_uri": "https://localhost:8080/",
          "height": 265
        },
        "id": "XODKXzaWi_1l",
        "outputId": "493283db-31dc-4289-fd58-097c13cb0c20"
      },
      "execution_count": 41,
      "outputs": [
        {
          "output_type": "display_data",
          "data": {
            "text/plain": [
              "<Figure size 432x288 with 1 Axes>"
            ],
            "image/png": "[encoded data removed]"
          },
          "metadata": {
            "needs_background": "light"
          }
        }
      ]
    },
    {
      "cell_type": "code",
      "source": [
        "len(test_data)"
      ],
      "metadata": {
        "colab": {
          "base_uri": "https://localhost:8080/"
        },
        "id": "0phaWHl-jjud",
        "outputId": "9c492e2b-3ce2-4be6-9050-3c699383689f"
      },
      "execution_count": 42,
      "outputs": [
        {
          "output_type": "execute_result",
          "data": {
            "text/plain": [
              "378"
            ]
          },
          "metadata": {},
          "execution_count": 42
        }
      ]
    },
    {
      "cell_type": "code",
      "source": [
        "x_input = test_data[278:].reshape(1,-1)"
      ],
      "metadata": {
        "id": "WyBa75ojjfoy"
      },
      "execution_count": 43,
      "outputs": []
    },
    {
      "cell_type": "code",
      "source": [
        "x_input.shape"
      ],
      "metadata": {
        "colab": {
          "base_uri": "https://localhost:8080/"
        },
        "id": "obFpQ3fLjqp9",
        "outputId": "598d1219-01ec-42a8-ece5-e0314b8d0e94"
      },
      "execution_count": 44,
      "outputs": [
        {
          "output_type": "execute_result",
          "data": {
            "text/plain": [
              "(1, 100)"
            ]
          },
          "metadata": {},
          "execution_count": 44
        }
      ]
    },
    {
      "cell_type": "code",
      "source": [
        "temp_input = list(x_input)\n",
        "temp_input = temp_input[0].tolist()"
      ],
      "metadata": {
        "id": "yyBdD6z9js16"
      },
      "execution_count": 46,
      "outputs": []
    },
    {
      "cell_type": "code",
      "source": [
        "temp_input"
      ],
      "metadata": {
        "colab": {
          "base_uri": "https://localhost:8080/"
        },
        "id": "OwhLpk0Vj3Lp",
        "outputId": "b84feccb-383a-4da5-ed85-504597e78ae1"
      },
      "execution_count": 47,
      "outputs": [
        {
          "output_type": "execute_result",
          "data": {
            "text/plain": [
              "[0.8583551465000423,\n",
              " 0.8866418981676942,\n",
              " 0.8743139407244789,\n",
              " 0.8843198513890065,\n",
              " 0.8783669678290975,\n",
              " 0.8986321033521913,\n",
              " 0.925821160179009,\n",
              " 0.9287764924427933,\n",
              " 0.9567677108840666,\n",
              " 0.9386979650426415,\n",
              " 0.933040614709111,\n",
              " 0.9495060373216249,\n",
              " 0.9642404796082076,\n",
              " 0.9551211686228154,\n",
              " 0.9598919192772104,\n",
              " 0.9663514312251966,\n",
              " 0.9624672802499368,\n",
              " 0.9229502659799038,\n",
              " 0.9598497002448705,\n",
              " 0.9879253567508233,\n",
              " 0.985941062230854,\n",
              " 0.9253145317909315,\n",
              " 0.9217259140420504,\n",
              " 0.964747107996285,\n",
              " 0.9757240564046274,\n",
              " 0.9915984125643842,\n",
              " 0.9697289538123788,\n",
              " 0.9761462467280253,\n",
              " 0.9679557544541082,\n",
              " 1.0000000000000002,\n",
              " 0.9901629654648318,\n",
              " 0.9905007177235499,\n",
              " 0.9653803934813816,\n",
              " 0.9848855864223593,\n",
              " 0.9708688676855528,\n",
              " 0.9402600692392133,\n",
              " 0.8774803681499621,\n",
              " 0.8348391454867856,\n",
              " 0.8541332432660644,\n",
              " 0.7733682344000676,\n",
              " 0.7726927298826314,\n",
              " 0.8801401671873683,\n",
              " 0.8400743054969182,\n",
              " 0.8967322468969012,\n",
              " 0.8552731571392387,\n",
              " 0.8388499535590646,\n",
              " 0.7423372456303303,\n",
              " 0.8232711306256861,\n",
              " 0.7814320695769654,\n",
              " 0.6665963016127672,\n",
              " 0.7921557037912694,\n",
              " 0.6411804441442204,\n",
              " 0.6861437135860848,\n",
              " 0.6600101325677616,\n",
              " 0.6520307354555435,\n",
              " 0.5864223591995272,\n",
              " 0.5658616904500551,\n",
              " 0.660896732246897,\n",
              " 0.6551549438486872,\n",
              " 0.7097019336316812,\n",
              " 0.664527569028118,\n",
              " 0.6943764248923416,\n",
              " 0.692181035210673,\n",
              " 0.6356919699400492,\n",
              " 0.6526640209406402,\n",
              " 0.637802921557038,\n",
              " 0.7267162036646122,\n",
              " 0.7138816178333194,\n",
              " 0.7419150553069325,\n",
              " 0.7500211095161702,\n",
              " 0.7722283205268936,\n",
              " 0.8304905851557884,\n",
              " 0.8194291986827664,\n",
              " 0.8289706999915563,\n",
              " 0.8125474964113824,\n",
              " 0.7877649244279323,\n",
              " 0.7516254327450818,\n",
              " 0.7842607447437306,\n",
              " 0.7797433082833742,\n",
              " 0.8132652199611587,\n",
              " 0.8141096006079542,\n",
              " 0.7947310647639958,\n",
              " 0.8333614793548934,\n",
              " 0.8589884319851391,\n",
              " 0.8390188296884238,\n",
              " 0.8562864139153934,\n",
              " 0.8748627881448958,\n",
              " 0.887824031073208,\n",
              " 0.9009541501308793,\n",
              " 0.9279321117959978,\n",
              " 0.9485349995778098,\n",
              " 0.9333361479354896,\n",
              " 0.9174617917757326,\n",
              " 0.925441188887951,\n",
              " 0.9177151059697712,\n",
              " 0.9483239044161109,\n",
              " 0.9406400405302711,\n",
              " 0.9663514312251966,\n",
              " 0.9563033015283293,\n",
              " 0.964915984125644]"
            ]
          },
          "metadata": {},
          "execution_count": 47
        }
      ]
    },
    {
      "cell_type": "markdown",
      "source": [
        "**Predicting for next 10 days**"
      ],
      "metadata": {
        "id": "ZXaaN0eVkBVX"
      }
    },
    {
      "cell_type": "code",
      "source": [
        "# demonstrate prediction for next 10 days\n",
        "from numpy import array\n",
        "\n",
        "lst_output=[]\n",
        "n_steps=100\n",
        "i=0\n",
        "while(i<30):\n",
        "    \n",
        "    if(len(temp_input)>100):\n",
        "        #print(temp_input)\n",
        "        x_input=np.array(temp_input[1:])\n",
        "        print(\"{} day input {}\".format(i,x_input))\n",
        "        x_input=x_input.reshape(1,-1)\n",
        "        x_input = x_input.reshape((1, n_steps, 1))\n",
        "        #print(x_input)\n",
        "        yhat = model.predict(x_input, verbose=0)\n",
        "        print(\"{} day output {}\".format(i,yhat))\n",
        "        temp_input.extend(yhat[0].tolist())\n",
        "        temp_input=temp_input[1:]\n",
        "        #print(temp_input)\n",
        "        lst_output.extend(yhat.tolist())\n",
        "        i=i+1\n",
        "    else:\n",
        "        x_input = x_input.reshape((1, n_steps,1))\n",
        "        yhat = model.predict(x_input, verbose=0)\n",
        "        print(yhat[0])\n",
        "        temp_input.extend(yhat[0].tolist())\n",
        "        print(len(temp_input))\n",
        "        lst_output.extend(yhat.tolist())\n",
        "        i=i+1\n",
        "    \n",
        "\n",
        "print(lst_output)"
      ],
      "metadata": {
        "colab": {
          "base_uri": "https://localhost:8080/"
        },
        "id": "lTHQE4j4j8JG",
        "outputId": "ad458069-c79f-4bc6-d11b-0510adec744a"
      },
      "execution_count": 48,
      "outputs": [
        {
          "output_type": "stream",
          "name": "stdout",
          "text": [
            "[0.8969372]\n",
            "101\n",
            "1 day input [0.8866419  0.87431394 0.88431985 0.87836697 0.8986321  0.92582116\n",
            " 0.92877649 0.95676771 0.93869797 0.93304061 0.94950604 0.96424048\n",
            " 0.95512117 0.95989192 0.96635143 0.96246728 0.92295027 0.9598497\n",
            " 0.98792536 0.98594106 0.92531453 0.92172591 0.96474711 0.97572406\n",
            " 0.99159841 0.96972895 0.97614625 0.96795575 1.         0.99016297\n",
            " 0.99050072 0.96538039 0.98488559 0.97086887 0.94026007 0.87748037\n",
            " 0.83483915 0.85413324 0.77336823 0.77269273 0.88014017 0.84007431\n",
            " 0.89673225 0.85527316 0.83884995 0.74233725 0.82327113 0.78143207\n",
            " 0.6665963  0.7921557  0.64118044 0.68614371 0.66001013 0.65203074\n",
            " 0.58642236 0.56586169 0.66089673 0.65515494 0.70970193 0.66452757\n",
            " 0.69437642 0.69218104 0.63569197 0.65266402 0.63780292 0.7267162\n",
            " 0.71388162 0.74191506 0.75002111 0.77222832 0.83049059 0.8194292\n",
            " 0.8289707  0.8125475  0.78776492 0.75162543 0.78426074 0.77974331\n",
            " 0.81326522 0.8141096  0.79473106 0.83336148 0.85898843 0.83901883\n",
            " 0.85628641 0.87486279 0.88782403 0.90095415 0.92793211 0.948535\n",
            " 0.93333615 0.91746179 0.92544119 0.91771511 0.9483239  0.94064004\n",
            " 0.96635143 0.9563033  0.96491598 0.89693719]\n",
            "1 day output [[0.87880224]]\n",
            "2 day input [0.87431394 0.88431985 0.87836697 0.8986321  0.92582116 0.92877649\n",
            " 0.95676771 0.93869797 0.93304061 0.94950604 0.96424048 0.95512117\n",
            " 0.95989192 0.96635143 0.96246728 0.92295027 0.9598497  0.98792536\n",
            " 0.98594106 0.92531453 0.92172591 0.96474711 0.97572406 0.99159841\n",
            " 0.96972895 0.97614625 0.96795575 1.         0.99016297 0.99050072\n",
            " 0.96538039 0.98488559 0.97086887 0.94026007 0.87748037 0.83483915\n",
            " 0.85413324 0.77336823 0.77269273 0.88014017 0.84007431 0.89673225\n",
            " 0.85527316 0.83884995 0.74233725 0.82327113 0.78143207 0.6665963\n",
            " 0.7921557  0.64118044 0.68614371 0.66001013 0.65203074 0.58642236\n",
            " 0.56586169 0.66089673 0.65515494 0.70970193 0.66452757 0.69437642\n",
            " 0.69218104 0.63569197 0.65266402 0.63780292 0.7267162  0.71388162\n",
            " 0.74191506 0.75002111 0.77222832 0.83049059 0.8194292  0.8289707\n",
            " 0.8125475  0.78776492 0.75162543 0.78426074 0.77974331 0.81326522\n",
            " 0.8141096  0.79473106 0.83336148 0.85898843 0.83901883 0.85628641\n",
            " 0.87486279 0.88782403 0.90095415 0.92793211 0.948535   0.93333615\n",
            " 0.91746179 0.92544119 0.91771511 0.9483239  0.94064004 0.96635143\n",
            " 0.9563033  0.96491598 0.89693719 0.87880224]\n",
            "2 day output [[0.8479334]]\n",
            "3 day input [0.88431985 0.87836697 0.8986321  0.92582116 0.92877649 0.95676771\n",
            " 0.93869797 0.93304061 0.94950604 0.96424048 0.95512117 0.95989192\n",
            " 0.96635143 0.96246728 0.92295027 0.9598497  0.98792536 0.98594106\n",
            " 0.92531453 0.92172591 0.96474711 0.97572406 0.99159841 0.96972895\n",
            " 0.97614625 0.96795575 1.         0.99016297 0.99050072 0.96538039\n",
            " 0.98488559 0.97086887 0.94026007 0.87748037 0.83483915 0.85413324\n",
            " 0.77336823 0.77269273 0.88014017 0.84007431 0.89673225 0.85527316\n",
            " 0.83884995 0.74233725 0.82327113 0.78143207 0.6665963  0.7921557\n",
            " 0.64118044 0.68614371 0.66001013 0.65203074 0.58642236 0.56586169\n",
            " 0.66089673 0.65515494 0.70970193 0.66452757 0.69437642 0.69218104\n",
            " 0.63569197 0.65266402 0.63780292 0.7267162  0.71388162 0.74191506\n",
            " 0.75002111 0.77222832 0.83049059 0.8194292  0.8289707  0.8125475\n",
            " 0.78776492 0.75162543 0.78426074 0.77974331 0.81326522 0.8141096\n",
            " 0.79473106 0.83336148 0.85898843 0.83901883 0.85628641 0.87486279\n",
            " 0.88782403 0.90095415 0.92793211 0.948535   0.93333615 0.91746179\n",
            " 0.92544119 0.91771511 0.9483239  0.94064004 0.96635143 0.9563033\n",
            " 0.96491598 0.89693719 0.87880224 0.84793341]\n",
            "3 day output [[0.8135273]]\n",
            "4 day input [0.87836697 0.8986321  0.92582116 0.92877649 0.95676771 0.93869797\n",
            " 0.93304061 0.94950604 0.96424048 0.95512117 0.95989192 0.96635143\n",
            " 0.96246728 0.92295027 0.9598497  0.98792536 0.98594106 0.92531453\n",
            " 0.92172591 0.96474711 0.97572406 0.99159841 0.96972895 0.97614625\n",
            " 0.96795575 1.         0.99016297 0.99050072 0.96538039 0.98488559\n",
            " 0.97086887 0.94026007 0.87748037 0.83483915 0.85413324 0.77336823\n",
            " 0.77269273 0.88014017 0.84007431 0.89673225 0.85527316 0.83884995\n",
            " 0.74233725 0.82327113 0.78143207 0.6665963  0.7921557  0.64118044\n",
            " 0.68614371 0.66001013 0.65203074 0.58642236 0.56586169 0.66089673\n",
            " 0.65515494 0.70970193 0.66452757 0.69437642 0.69218104 0.63569197\n",
            " 0.65266402 0.63780292 0.7267162  0.71388162 0.74191506 0.75002111\n",
            " 0.77222832 0.83049059 0.8194292  0.8289707  0.8125475  0.78776492\n",
            " 0.75162543 0.78426074 0.77974331 0.81326522 0.8141096  0.79473106\n",
            " 0.83336148 0.85898843 0.83901883 0.85628641 0.87486279 0.88782403\n",
            " 0.90095415 0.92793211 0.948535   0.93333615 0.91746179 0.92544119\n",
            " 0.91771511 0.9483239  0.94064004 0.96635143 0.9563033  0.96491598\n",
            " 0.89693719 0.87880224 0.84793341 0.81352729]\n",
            "4 day output [[0.7797383]]\n",
            "5 day input [0.8986321  0.92582116 0.92877649 0.95676771 0.93869797 0.93304061\n",
            " 0.94950604 0.96424048 0.95512117 0.95989192 0.96635143 0.96246728\n",
            " 0.92295027 0.9598497  0.98792536 0.98594106 0.92531453 0.92172591\n",
            " 0.96474711 0.97572406 0.99159841 0.96972895 0.97614625 0.96795575\n",
            " 1.         0.99016297 0.99050072 0.96538039 0.98488559 0.97086887\n",
            " 0.94026007 0.87748037 0.83483915 0.85413324 0.77336823 0.77269273\n",
            " 0.88014017 0.84007431 0.89673225 0.85527316 0.83884995 0.74233725\n",
            " 0.82327113 0.78143207 0.6665963  0.7921557  0.64118044 0.68614371\n",
            " 0.66001013 0.65203074 0.58642236 0.56586169 0.66089673 0.65515494\n",
            " 0.70970193 0.66452757 0.69437642 0.69218104 0.63569197 0.65266402\n",
            " 0.63780292 0.7267162  0.71388162 0.74191506 0.75002111 0.77222832\n",
            " 0.83049059 0.8194292  0.8289707  0.8125475  0.78776492 0.75162543\n",
            " 0.78426074 0.77974331 0.81326522 0.8141096  0.79473106 0.83336148\n",
            " 0.85898843 0.83901883 0.85628641 0.87486279 0.88782403 0.90095415\n",
            " 0.92793211 0.948535   0.93333615 0.91746179 0.92544119 0.91771511\n",
            " 0.9483239  0.94064004 0.96635143 0.9563033  0.96491598 0.89693719\n",
            " 0.87880224 0.84793341 0.81352729 0.77973831]\n",
            "5 day output [[0.7481656]]\n",
            "6 day input [0.92582116 0.92877649 0.95676771 0.93869797 0.93304061 0.94950604\n",
            " 0.96424048 0.95512117 0.95989192 0.96635143 0.96246728 0.92295027\n",
            " 0.9598497  0.98792536 0.98594106 0.92531453 0.92172591 0.96474711\n",
            " 0.97572406 0.99159841 0.96972895 0.97614625 0.96795575 1.\n",
            " 0.99016297 0.99050072 0.96538039 0.98488559 0.97086887 0.94026007\n",
            " 0.87748037 0.83483915 0.85413324 0.77336823 0.77269273 0.88014017\n",
            " 0.84007431 0.89673225 0.85527316 0.83884995 0.74233725 0.82327113\n",
            " 0.78143207 0.6665963  0.7921557  0.64118044 0.68614371 0.66001013\n",
            " 0.65203074 0.58642236 0.56586169 0.66089673 0.65515494 0.70970193\n",
            " 0.66452757 0.69437642 0.69218104 0.63569197 0.65266402 0.63780292\n",
            " 0.7267162  0.71388162 0.74191506 0.75002111 0.77222832 0.83049059\n",
            " 0.8194292  0.8289707  0.8125475  0.78776492 0.75162543 0.78426074\n",
            " 0.77974331 0.81326522 0.8141096  0.79473106 0.83336148 0.85898843\n",
            " 0.83901883 0.85628641 0.87486279 0.88782403 0.90095415 0.92793211\n",
            " 0.948535   0.93333615 0.91746179 0.92544119 0.91771511 0.9483239\n",
            " 0.94064004 0.96635143 0.9563033  0.96491598 0.89693719 0.87880224\n",
            " 0.84793341 0.81352729 0.77973831 0.74816561]\n",
            "6 day output [[0.7194297]]\n",
            "7 day input [0.92877649 0.95676771 0.93869797 0.93304061 0.94950604 0.96424048\n",
            " 0.95512117 0.95989192 0.96635143 0.96246728 0.92295027 0.9598497\n",
            " 0.98792536 0.98594106 0.92531453 0.92172591 0.96474711 0.97572406\n",
            " 0.99159841 0.96972895 0.97614625 0.96795575 1.         0.99016297\n",
            " 0.99050072 0.96538039 0.98488559 0.97086887 0.94026007 0.87748037\n",
            " 0.83483915 0.85413324 0.77336823 0.77269273 0.88014017 0.84007431\n",
            " 0.89673225 0.85527316 0.83884995 0.74233725 0.82327113 0.78143207\n",
            " 0.6665963  0.7921557  0.64118044 0.68614371 0.66001013 0.65203074\n",
            " 0.58642236 0.56586169 0.66089673 0.65515494 0.70970193 0.66452757\n",
            " 0.69437642 0.69218104 0.63569197 0.65266402 0.63780292 0.7267162\n",
            " 0.71388162 0.74191506 0.75002111 0.77222832 0.83049059 0.8194292\n",
            " 0.8289707  0.8125475  0.78776492 0.75162543 0.78426074 0.77974331\n",
            " 0.81326522 0.8141096  0.79473106 0.83336148 0.85898843 0.83901883\n",
            " 0.85628641 0.87486279 0.88782403 0.90095415 0.92793211 0.948535\n",
            " 0.93333615 0.91746179 0.92544119 0.91771511 0.9483239  0.94064004\n",
            " 0.96635143 0.9563033  0.96491598 0.89693719 0.87880224 0.84793341\n",
            " 0.81352729 0.77973831 0.74816561 0.71942967]\n",
            "7 day output [[0.69371516]]\n",
            "8 day input [0.95676771 0.93869797 0.93304061 0.94950604 0.96424048 0.95512117\n",
            " 0.95989192 0.96635143 0.96246728 0.92295027 0.9598497  0.98792536\n",
            " 0.98594106 0.92531453 0.92172591 0.96474711 0.97572406 0.99159841\n",
            " 0.96972895 0.97614625 0.96795575 1.         0.99016297 0.99050072\n",
            " 0.96538039 0.98488559 0.97086887 0.94026007 0.87748037 0.83483915\n",
            " 0.85413324 0.77336823 0.77269273 0.88014017 0.84007431 0.89673225\n",
            " 0.85527316 0.83884995 0.74233725 0.82327113 0.78143207 0.6665963\n",
            " 0.7921557  0.64118044 0.68614371 0.66001013 0.65203074 0.58642236\n",
            " 0.56586169 0.66089673 0.65515494 0.70970193 0.66452757 0.69437642\n",
            " 0.69218104 0.63569197 0.65266402 0.63780292 0.7267162  0.71388162\n",
            " 0.74191506 0.75002111 0.77222832 0.83049059 0.8194292  0.8289707\n",
            " 0.8125475  0.78776492 0.75162543 0.78426074 0.77974331 0.81326522\n",
            " 0.8141096  0.79473106 0.83336148 0.85898843 0.83901883 0.85628641\n",
            " 0.87486279 0.88782403 0.90095415 0.92793211 0.948535   0.93333615\n",
            " 0.91746179 0.92544119 0.91771511 0.9483239  0.94064004 0.96635143\n",
            " 0.9563033  0.96491598 0.89693719 0.87880224 0.84793341 0.81352729\n",
            " 0.77973831 0.74816561 0.71942967 0.69371516]\n",
            "8 day output [[0.670925]]\n",
            "9 day input [0.93869797 0.93304061 0.94950604 0.96424048 0.95512117 0.95989192\n",
            " 0.96635143 0.96246728 0.92295027 0.9598497  0.98792536 0.98594106\n",
            " 0.92531453 0.92172591 0.96474711 0.97572406 0.99159841 0.96972895\n",
            " 0.97614625 0.96795575 1.         0.99016297 0.99050072 0.96538039\n",
            " 0.98488559 0.97086887 0.94026007 0.87748037 0.83483915 0.85413324\n",
            " 0.77336823 0.77269273 0.88014017 0.84007431 0.89673225 0.85527316\n",
            " 0.83884995 0.74233725 0.82327113 0.78143207 0.6665963  0.7921557\n",
            " 0.64118044 0.68614371 0.66001013 0.65203074 0.58642236 0.56586169\n",
            " 0.66089673 0.65515494 0.70970193 0.66452757 0.69437642 0.69218104\n",
            " 0.63569197 0.65266402 0.63780292 0.7267162  0.71388162 0.74191506\n",
            " 0.75002111 0.77222832 0.83049059 0.8194292  0.8289707  0.8125475\n",
            " 0.78776492 0.75162543 0.78426074 0.77974331 0.81326522 0.8141096\n",
            " 0.79473106 0.83336148 0.85898843 0.83901883 0.85628641 0.87486279\n",
            " 0.88782403 0.90095415 0.92793211 0.948535   0.93333615 0.91746179\n",
            " 0.92544119 0.91771511 0.9483239  0.94064004 0.96635143 0.9563033\n",
            " 0.96491598 0.89693719 0.87880224 0.84793341 0.81352729 0.77973831\n",
            " 0.74816561 0.71942967 0.69371516 0.67092502]\n",
            "9 day output [[0.6507608]]\n",
            "10 day input [0.93304061 0.94950604 0.96424048 0.95512117 0.95989192 0.96635143\n",
            " 0.96246728 0.92295027 0.9598497  0.98792536 0.98594106 0.92531453\n",
            " 0.92172591 0.96474711 0.97572406 0.99159841 0.96972895 0.97614625\n",
            " 0.96795575 1.         0.99016297 0.99050072 0.96538039 0.98488559\n",
            " 0.97086887 0.94026007 0.87748037 0.83483915 0.85413324 0.77336823\n",
            " 0.77269273 0.88014017 0.84007431 0.89673225 0.85527316 0.83884995\n",
            " 0.74233725 0.82327113 0.78143207 0.6665963  0.7921557  0.64118044\n",
            " 0.68614371 0.66001013 0.65203074 0.58642236 0.56586169 0.66089673\n",
            " 0.65515494 0.70970193 0.66452757 0.69437642 0.69218104 0.63569197\n",
            " 0.65266402 0.63780292 0.7267162  0.71388162 0.74191506 0.75002111\n",
            " 0.77222832 0.83049059 0.8194292  0.8289707  0.8125475  0.78776492\n",
            " 0.75162543 0.78426074 0.77974331 0.81326522 0.8141096  0.79473106\n",
            " 0.83336148 0.85898843 0.83901883 0.85628641 0.87486279 0.88782403\n",
            " 0.90095415 0.92793211 0.948535   0.93333615 0.91746179 0.92544119\n",
            " 0.91771511 0.9483239  0.94064004 0.96635143 0.9563033  0.96491598\n",
            " 0.89693719 0.87880224 0.84793341 0.81352729 0.77973831 0.74816561\n",
            " 0.71942967 0.69371516 0.67092502 0.65076083]\n",
            "10 day output [[0.63279957]]\n",
            "11 day input [0.94950604 0.96424048 0.95512117 0.95989192 0.96635143 0.96246728\n",
            " 0.92295027 0.9598497  0.98792536 0.98594106 0.92531453 0.92172591\n",
            " 0.96474711 0.97572406 0.99159841 0.96972895 0.97614625 0.96795575\n",
            " 1.         0.99016297 0.99050072 0.96538039 0.98488559 0.97086887\n",
            " 0.94026007 0.87748037 0.83483915 0.85413324 0.77336823 0.77269273\n",
            " 0.88014017 0.84007431 0.89673225 0.85527316 0.83884995 0.74233725\n",
            " 0.82327113 0.78143207 0.6665963  0.7921557  0.64118044 0.68614371\n",
            " 0.66001013 0.65203074 0.58642236 0.56586169 0.66089673 0.65515494\n",
            " 0.70970193 0.66452757 0.69437642 0.69218104 0.63569197 0.65266402\n",
            " 0.63780292 0.7267162  0.71388162 0.74191506 0.75002111 0.77222832\n",
            " 0.83049059 0.8194292  0.8289707  0.8125475  0.78776492 0.75162543\n",
            " 0.78426074 0.77974331 0.81326522 0.8141096  0.79473106 0.83336148\n",
            " 0.85898843 0.83901883 0.85628641 0.87486279 0.88782403 0.90095415\n",
            " 0.92793211 0.948535   0.93333615 0.91746179 0.92544119 0.91771511\n",
            " 0.9483239  0.94064004 0.96635143 0.9563033  0.96491598 0.89693719\n",
            " 0.87880224 0.84793341 0.81352729 0.77973831 0.74816561 0.71942967\n",
            " 0.69371516 0.67092502 0.65076083 0.63279957]\n",
            "11 day output [[0.6165668]]\n",
            "12 day input [0.96424048 0.95512117 0.95989192 0.96635143 0.96246728 0.92295027\n",
            " 0.9598497  0.98792536 0.98594106 0.92531453 0.92172591 0.96474711\n",
            " 0.97572406 0.99159841 0.96972895 0.97614625 0.96795575 1.\n",
            " 0.99016297 0.99050072 0.96538039 0.98488559 0.97086887 0.94026007\n",
            " 0.87748037 0.83483915 0.85413324 0.77336823 0.77269273 0.88014017\n",
            " 0.84007431 0.89673225 0.85527316 0.83884995 0.74233725 0.82327113\n",
            " 0.78143207 0.6665963  0.7921557  0.64118044 0.68614371 0.66001013\n",
            " 0.65203074 0.58642236 0.56586169 0.66089673 0.65515494 0.70970193\n",
            " 0.66452757 0.69437642 0.69218104 0.63569197 0.65266402 0.63780292\n",
            " 0.7267162  0.71388162 0.74191506 0.75002111 0.77222832 0.83049059\n",
            " 0.8194292  0.8289707  0.8125475  0.78776492 0.75162543 0.78426074\n",
            " 0.77974331 0.81326522 0.8141096  0.79473106 0.83336148 0.85898843\n",
            " 0.83901883 0.85628641 0.87486279 0.88782403 0.90095415 0.92793211\n",
            " 0.948535   0.93333615 0.91746179 0.92544119 0.91771511 0.9483239\n",
            " 0.94064004 0.96635143 0.9563033  0.96491598 0.89693719 0.87880224\n",
            " 0.84793341 0.81352729 0.77973831 0.74816561 0.71942967 0.69371516\n",
            " 0.67092502 0.65076083 0.63279957 0.61656678]\n",
            "12 day output [[0.60159343]]\n",
            "13 day input [0.95512117 0.95989192 0.96635143 0.96246728 0.92295027 0.9598497\n",
            " 0.98792536 0.98594106 0.92531453 0.92172591 0.96474711 0.97572406\n",
            " 0.99159841 0.96972895 0.97614625 0.96795575 1.         0.99016297\n",
            " 0.99050072 0.96538039 0.98488559 0.97086887 0.94026007 0.87748037\n",
            " 0.83483915 0.85413324 0.77336823 0.77269273 0.88014017 0.84007431\n",
            " 0.89673225 0.85527316 0.83884995 0.74233725 0.82327113 0.78143207\n",
            " 0.6665963  0.7921557  0.64118044 0.68614371 0.66001013 0.65203074\n",
            " 0.58642236 0.56586169 0.66089673 0.65515494 0.70970193 0.66452757\n",
            " 0.69437642 0.69218104 0.63569197 0.65266402 0.63780292 0.7267162\n",
            " 0.71388162 0.74191506 0.75002111 0.77222832 0.83049059 0.8194292\n",
            " 0.8289707  0.8125475  0.78776492 0.75162543 0.78426074 0.77974331\n",
            " 0.81326522 0.8141096  0.79473106 0.83336148 0.85898843 0.83901883\n",
            " 0.85628641 0.87486279 0.88782403 0.90095415 0.92793211 0.948535\n",
            " 0.93333615 0.91746179 0.92544119 0.91771511 0.9483239  0.94064004\n",
            " 0.96635143 0.9563033  0.96491598 0.89693719 0.87880224 0.84793341\n",
            " 0.81352729 0.77973831 0.74816561 0.71942967 0.69371516 0.67092502\n",
            " 0.65076083 0.63279957 0.61656678 0.60159343]\n",
            "13 day output [[0.58745927]]\n",
            "14 day input [0.95989192 0.96635143 0.96246728 0.92295027 0.9598497  0.98792536\n",
            " 0.98594106 0.92531453 0.92172591 0.96474711 0.97572406 0.99159841\n",
            " 0.96972895 0.97614625 0.96795575 1.         0.99016297 0.99050072\n",
            " 0.96538039 0.98488559 0.97086887 0.94026007 0.87748037 0.83483915\n",
            " 0.85413324 0.77336823 0.77269273 0.88014017 0.84007431 0.89673225\n",
            " 0.85527316 0.83884995 0.74233725 0.82327113 0.78143207 0.6665963\n",
            " 0.7921557  0.64118044 0.68614371 0.66001013 0.65203074 0.58642236\n",
            " 0.56586169 0.66089673 0.65515494 0.70970193 0.66452757 0.69437642\n",
            " 0.69218104 0.63569197 0.65266402 0.63780292 0.7267162  0.71388162\n",
            " 0.74191506 0.75002111 0.77222832 0.83049059 0.8194292  0.8289707\n",
            " 0.8125475  0.78776492 0.75162543 0.78426074 0.77974331 0.81326522\n",
            " 0.8141096  0.79473106 0.83336148 0.85898843 0.83901883 0.85628641\n",
            " 0.87486279 0.88782403 0.90095415 0.92793211 0.948535   0.93333615\n",
            " 0.91746179 0.92544119 0.91771511 0.9483239  0.94064004 0.96635143\n",
            " 0.9563033  0.96491598 0.89693719 0.87880224 0.84793341 0.81352729\n",
            " 0.77973831 0.74816561 0.71942967 0.69371516 0.67092502 0.65076083\n",
            " 0.63279957 0.61656678 0.60159343 0.58745927]\n",
            "14 day output [[0.5738197]]\n",
            "15 day input [0.96635143 0.96246728 0.92295027 0.9598497  0.98792536 0.98594106\n",
            " 0.92531453 0.92172591 0.96474711 0.97572406 0.99159841 0.96972895\n",
            " 0.97614625 0.96795575 1.         0.99016297 0.99050072 0.96538039\n",
            " 0.98488559 0.97086887 0.94026007 0.87748037 0.83483915 0.85413324\n",
            " 0.77336823 0.77269273 0.88014017 0.84007431 0.89673225 0.85527316\n",
            " 0.83884995 0.74233725 0.82327113 0.78143207 0.6665963  0.7921557\n",
            " 0.64118044 0.68614371 0.66001013 0.65203074 0.58642236 0.56586169\n",
            " 0.66089673 0.65515494 0.70970193 0.66452757 0.69437642 0.69218104\n",
            " 0.63569197 0.65266402 0.63780292 0.7267162  0.71388162 0.74191506\n",
            " 0.75002111 0.77222832 0.83049059 0.8194292  0.8289707  0.8125475\n",
            " 0.78776492 0.75162543 0.78426074 0.77974331 0.81326522 0.8141096\n",
            " 0.79473106 0.83336148 0.85898843 0.83901883 0.85628641 0.87486279\n",
            " 0.88782403 0.90095415 0.92793211 0.948535   0.93333615 0.91746179\n",
            " 0.92544119 0.91771511 0.9483239  0.94064004 0.96635143 0.9563033\n",
            " 0.96491598 0.89693719 0.87880224 0.84793341 0.81352729 0.77973831\n",
            " 0.74816561 0.71942967 0.69371516 0.67092502 0.65076083 0.63279957\n",
            " 0.61656678 0.60159343 0.58745927 0.5738197 ]\n",
            "15 day output [[0.5604214]]\n",
            "16 day input [0.96246728 0.92295027 0.9598497  0.98792536 0.98594106 0.92531453\n",
            " 0.92172591 0.96474711 0.97572406 0.99159841 0.96972895 0.97614625\n",
            " 0.96795575 1.         0.99016297 0.99050072 0.96538039 0.98488559\n",
            " 0.97086887 0.94026007 0.87748037 0.83483915 0.85413324 0.77336823\n",
            " 0.77269273 0.88014017 0.84007431 0.89673225 0.85527316 0.83884995\n",
            " 0.74233725 0.82327113 0.78143207 0.6665963  0.7921557  0.64118044\n",
            " 0.68614371 0.66001013 0.65203074 0.58642236 0.56586169 0.66089673\n",
            " 0.65515494 0.70970193 0.66452757 0.69437642 0.69218104 0.63569197\n",
            " 0.65266402 0.63780292 0.7267162  0.71388162 0.74191506 0.75002111\n",
            " 0.77222832 0.83049059 0.8194292  0.8289707  0.8125475  0.78776492\n",
            " 0.75162543 0.78426074 0.77974331 0.81326522 0.8141096  0.79473106\n",
            " 0.83336148 0.85898843 0.83901883 0.85628641 0.87486279 0.88782403\n",
            " 0.90095415 0.92793211 0.948535   0.93333615 0.91746179 0.92544119\n",
            " 0.91771511 0.9483239  0.94064004 0.96635143 0.9563033  0.96491598\n",
            " 0.89693719 0.87880224 0.84793341 0.81352729 0.77973831 0.74816561\n",
            " 0.71942967 0.69371516 0.67092502 0.65076083 0.63279957 0.61656678\n",
            " 0.60159343 0.58745927 0.5738197  0.56042141]\n",
            "16 day output [[0.54710823]]\n",
            "17 day input [0.92295027 0.9598497  0.98792536 0.98594106 0.92531453 0.92172591\n",
            " 0.96474711 0.97572406 0.99159841 0.96972895 0.97614625 0.96795575\n",
            " 1.         0.99016297 0.99050072 0.96538039 0.98488559 0.97086887\n",
            " 0.94026007 0.87748037 0.83483915 0.85413324 0.77336823 0.77269273\n",
            " 0.88014017 0.84007431 0.89673225 0.85527316 0.83884995 0.74233725\n",
            " 0.82327113 0.78143207 0.6665963  0.7921557  0.64118044 0.68614371\n",
            " 0.66001013 0.65203074 0.58642236 0.56586169 0.66089673 0.65515494\n",
            " 0.70970193 0.66452757 0.69437642 0.69218104 0.63569197 0.65266402\n",
            " 0.63780292 0.7267162  0.71388162 0.74191506 0.75002111 0.77222832\n",
            " 0.83049059 0.8194292  0.8289707  0.8125475  0.78776492 0.75162543\n",
            " 0.78426074 0.77974331 0.81326522 0.8141096  0.79473106 0.83336148\n",
            " 0.85898843 0.83901883 0.85628641 0.87486279 0.88782403 0.90095415\n",
            " 0.92793211 0.948535   0.93333615 0.91746179 0.92544119 0.91771511\n",
            " 0.9483239  0.94064004 0.96635143 0.9563033  0.96491598 0.89693719\n",
            " 0.87880224 0.84793341 0.81352729 0.77973831 0.74816561 0.71942967\n",
            " 0.69371516 0.67092502 0.65076083 0.63279957 0.61656678 0.60159343\n",
            " 0.58745927 0.5738197  0.56042141 0.54710823]\n",
            "17 day output [[0.53381526]]\n",
            "18 day input [0.9598497  0.98792536 0.98594106 0.92531453 0.92172591 0.96474711\n",
            " 0.97572406 0.99159841 0.96972895 0.97614625 0.96795575 1.\n",
            " 0.99016297 0.99050072 0.96538039 0.98488559 0.97086887 0.94026007\n",
            " 0.87748037 0.83483915 0.85413324 0.77336823 0.77269273 0.88014017\n",
            " 0.84007431 0.89673225 0.85527316 0.83884995 0.74233725 0.82327113\n",
            " 0.78143207 0.6665963  0.7921557  0.64118044 0.68614371 0.66001013\n",
            " 0.65203074 0.58642236 0.56586169 0.66089673 0.65515494 0.70970193\n",
            " 0.66452757 0.69437642 0.69218104 0.63569197 0.65266402 0.63780292\n",
            " 0.7267162  0.71388162 0.74191506 0.75002111 0.77222832 0.83049059\n",
            " 0.8194292  0.8289707  0.8125475  0.78776492 0.75162543 0.78426074\n",
            " 0.77974331 0.81326522 0.8141096  0.79473106 0.83336148 0.85898843\n",
            " 0.83901883 0.85628641 0.87486279 0.88782403 0.90095415 0.92793211\n",
            " 0.948535   0.93333615 0.91746179 0.92544119 0.91771511 0.9483239\n",
            " 0.94064004 0.96635143 0.9563033  0.96491598 0.89693719 0.87880224\n",
            " 0.84793341 0.81352729 0.77973831 0.74816561 0.71942967 0.69371516\n",
            " 0.67092502 0.65076083 0.63279957 0.61656678 0.60159343 0.58745927\n",
            " 0.5738197  0.56042141 0.54710823 0.53381526]\n",
            "18 day output [[0.5205587]]\n",
            "19 day input [0.98792536 0.98594106 0.92531453 0.92172591 0.96474711 0.97572406\n",
            " 0.99159841 0.96972895 0.97614625 0.96795575 1.         0.99016297\n",
            " 0.99050072 0.96538039 0.98488559 0.97086887 0.94026007 0.87748037\n",
            " 0.83483915 0.85413324 0.77336823 0.77269273 0.88014017 0.84007431\n",
            " 0.89673225 0.85527316 0.83884995 0.74233725 0.82327113 0.78143207\n",
            " 0.6665963  0.7921557  0.64118044 0.68614371 0.66001013 0.65203074\n",
            " 0.58642236 0.56586169 0.66089673 0.65515494 0.70970193 0.66452757\n",
            " 0.69437642 0.69218104 0.63569197 0.65266402 0.63780292 0.7267162\n",
            " 0.71388162 0.74191506 0.75002111 0.77222832 0.83049059 0.8194292\n",
            " 0.8289707  0.8125475  0.78776492 0.75162543 0.78426074 0.77974331\n",
            " 0.81326522 0.8141096  0.79473106 0.83336148 0.85898843 0.83901883\n",
            " 0.85628641 0.87486279 0.88782403 0.90095415 0.92793211 0.948535\n",
            " 0.93333615 0.91746179 0.92544119 0.91771511 0.9483239  0.94064004\n",
            " 0.96635143 0.9563033  0.96491598 0.89693719 0.87880224 0.84793341\n",
            " 0.81352729 0.77973831 0.74816561 0.71942967 0.69371516 0.67092502\n",
            " 0.65076083 0.63279957 0.61656678 0.60159343 0.58745927 0.5738197\n",
            " 0.56042141 0.54710823 0.53381526 0.52055871]\n",
            "19 day output [[0.5074158]]\n",
            "20 day input [0.98594106 0.92531453 0.92172591 0.96474711 0.97572406 0.99159841\n",
            " 0.96972895 0.97614625 0.96795575 1.         0.99016297 0.99050072\n",
            " 0.96538039 0.98488559 0.97086887 0.94026007 0.87748037 0.83483915\n",
            " 0.85413324 0.77336823 0.77269273 0.88014017 0.84007431 0.89673225\n",
            " 0.85527316 0.83884995 0.74233725 0.82327113 0.78143207 0.6665963\n",
            " 0.7921557  0.64118044 0.68614371 0.66001013 0.65203074 0.58642236\n",
            " 0.56586169 0.66089673 0.65515494 0.70970193 0.66452757 0.69437642\n",
            " 0.69218104 0.63569197 0.65266402 0.63780292 0.7267162  0.71388162\n",
            " 0.74191506 0.75002111 0.77222832 0.83049059 0.8194292  0.8289707\n",
            " 0.8125475  0.78776492 0.75162543 0.78426074 0.77974331 0.81326522\n",
            " 0.8141096  0.79473106 0.83336148 0.85898843 0.83901883 0.85628641\n",
            " 0.87486279 0.88782403 0.90095415 0.92793211 0.948535   0.93333615\n",
            " 0.91746179 0.92544119 0.91771511 0.9483239  0.94064004 0.96635143\n",
            " 0.9563033  0.96491598 0.89693719 0.87880224 0.84793341 0.81352729\n",
            " 0.77973831 0.74816561 0.71942967 0.69371516 0.67092502 0.65076083\n",
            " 0.63279957 0.61656678 0.60159343 0.58745927 0.5738197  0.56042141\n",
            " 0.54710823 0.53381526 0.52055871 0.50741577]\n",
            "20 day output [[0.49450472]]\n",
            "21 day input [0.92531453 0.92172591 0.96474711 0.97572406 0.99159841 0.96972895\n",
            " 0.97614625 0.96795575 1.         0.99016297 0.99050072 0.96538039\n",
            " 0.98488559 0.97086887 0.94026007 0.87748037 0.83483915 0.85413324\n",
            " 0.77336823 0.77269273 0.88014017 0.84007431 0.89673225 0.85527316\n",
            " 0.83884995 0.74233725 0.82327113 0.78143207 0.6665963  0.7921557\n",
            " 0.64118044 0.68614371 0.66001013 0.65203074 0.58642236 0.56586169\n",
            " 0.66089673 0.65515494 0.70970193 0.66452757 0.69437642 0.69218104\n",
            " 0.63569197 0.65266402 0.63780292 0.7267162  0.71388162 0.74191506\n",
            " 0.75002111 0.77222832 0.83049059 0.8194292  0.8289707  0.8125475\n",
            " 0.78776492 0.75162543 0.78426074 0.77974331 0.81326522 0.8141096\n",
            " 0.79473106 0.83336148 0.85898843 0.83901883 0.85628641 0.87486279\n",
            " 0.88782403 0.90095415 0.92793211 0.948535   0.93333615 0.91746179\n",
            " 0.92544119 0.91771511 0.9483239  0.94064004 0.96635143 0.9563033\n",
            " 0.96491598 0.89693719 0.87880224 0.84793341 0.81352729 0.77973831\n",
            " 0.74816561 0.71942967 0.69371516 0.67092502 0.65076083 0.63279957\n",
            " 0.61656678 0.60159343 0.58745927 0.5738197  0.56042141 0.54710823\n",
            " 0.53381526 0.52055871 0.50741577 0.49450472]\n",
            "21 day output [[0.48196253]]\n",
            "22 day input [0.92172591 0.96474711 0.97572406 0.99159841 0.96972895 0.97614625\n",
            " 0.96795575 1.         0.99016297 0.99050072 0.96538039 0.98488559\n",
            " 0.97086887 0.94026007 0.87748037 0.83483915 0.85413324 0.77336823\n",
            " 0.77269273 0.88014017 0.84007431 0.89673225 0.85527316 0.83884995\n",
            " 0.74233725 0.82327113 0.78143207 0.6665963  0.7921557  0.64118044\n",
            " 0.68614371 0.66001013 0.65203074 0.58642236 0.56586169 0.66089673\n",
            " 0.65515494 0.70970193 0.66452757 0.69437642 0.69218104 0.63569197\n",
            " 0.65266402 0.63780292 0.7267162  0.71388162 0.74191506 0.75002111\n",
            " 0.77222832 0.83049059 0.8194292  0.8289707  0.8125475  0.78776492\n",
            " 0.75162543 0.78426074 0.77974331 0.81326522 0.8141096  0.79473106\n",
            " 0.83336148 0.85898843 0.83901883 0.85628641 0.87486279 0.88782403\n",
            " 0.90095415 0.92793211 0.948535   0.93333615 0.91746179 0.92544119\n",
            " 0.91771511 0.9483239  0.94064004 0.96635143 0.9563033  0.96491598\n",
            " 0.89693719 0.87880224 0.84793341 0.81352729 0.77973831 0.74816561\n",
            " 0.71942967 0.69371516 0.67092502 0.65076083 0.63279957 0.61656678\n",
            " 0.60159343 0.58745927 0.5738197  0.56042141 0.54710823 0.53381526\n",
            " 0.52055871 0.50741577 0.49450472 0.48196253]\n",
            "22 day output [[0.46992463]]\n",
            "23 day input [0.96474711 0.97572406 0.99159841 0.96972895 0.97614625 0.96795575\n",
            " 1.         0.99016297 0.99050072 0.96538039 0.98488559 0.97086887\n",
            " 0.94026007 0.87748037 0.83483915 0.85413324 0.77336823 0.77269273\n",
            " 0.88014017 0.84007431 0.89673225 0.85527316 0.83884995 0.74233725\n",
            " 0.82327113 0.78143207 0.6665963  0.7921557  0.64118044 0.68614371\n",
            " 0.66001013 0.65203074 0.58642236 0.56586169 0.66089673 0.65515494\n",
            " 0.70970193 0.66452757 0.69437642 0.69218104 0.63569197 0.65266402\n",
            " 0.63780292 0.7267162  0.71388162 0.74191506 0.75002111 0.77222832\n",
            " 0.83049059 0.8194292  0.8289707  0.8125475  0.78776492 0.75162543\n",
            " 0.78426074 0.77974331 0.81326522 0.8141096  0.79473106 0.83336148\n",
            " 0.85898843 0.83901883 0.85628641 0.87486279 0.88782403 0.90095415\n",
            " 0.92793211 0.948535   0.93333615 0.91746179 0.92544119 0.91771511\n",
            " 0.9483239  0.94064004 0.96635143 0.9563033  0.96491598 0.89693719\n",
            " 0.87880224 0.84793341 0.81352729 0.77973831 0.74816561 0.71942967\n",
            " 0.69371516 0.67092502 0.65076083 0.63279957 0.61656678 0.60159343\n",
            " 0.58745927 0.5738197  0.56042141 0.54710823 0.53381526 0.52055871\n",
            " 0.50741577 0.49450472 0.48196253 0.46992463]\n",
            "23 day output [[0.45850843]]\n",
            "24 day input [0.97572406 0.99159841 0.96972895 0.97614625 0.96795575 1.\n",
            " 0.99016297 0.99050072 0.96538039 0.98488559 0.97086887 0.94026007\n",
            " 0.87748037 0.83483915 0.85413324 0.77336823 0.77269273 0.88014017\n",
            " 0.84007431 0.89673225 0.85527316 0.83884995 0.74233725 0.82327113\n",
            " 0.78143207 0.6665963  0.7921557  0.64118044 0.68614371 0.66001013\n",
            " 0.65203074 0.58642236 0.56586169 0.66089673 0.65515494 0.70970193\n",
            " 0.66452757 0.69437642 0.69218104 0.63569197 0.65266402 0.63780292\n",
            " 0.7267162  0.71388162 0.74191506 0.75002111 0.77222832 0.83049059\n",
            " 0.8194292  0.8289707  0.8125475  0.78776492 0.75162543 0.78426074\n",
            " 0.77974331 0.81326522 0.8141096  0.79473106 0.83336148 0.85898843\n",
            " 0.83901883 0.85628641 0.87486279 0.88782403 0.90095415 0.92793211\n",
            " 0.948535   0.93333615 0.91746179 0.92544119 0.91771511 0.9483239\n",
            " 0.94064004 0.96635143 0.9563033  0.96491598 0.89693719 0.87880224\n",
            " 0.84793341 0.81352729 0.77973831 0.74816561 0.71942967 0.69371516\n",
            " 0.67092502 0.65076083 0.63279957 0.61656678 0.60159343 0.58745927\n",
            " 0.5738197  0.56042141 0.54710823 0.53381526 0.52055871 0.50741577\n",
            " 0.49450472 0.48196253 0.46992463 0.45850843]\n",
            "24 day output [[0.4478033]]\n",
            "25 day input [0.99159841 0.96972895 0.97614625 0.96795575 1.         0.99016297\n",
            " 0.99050072 0.96538039 0.98488559 0.97086887 0.94026007 0.87748037\n",
            " 0.83483915 0.85413324 0.77336823 0.77269273 0.88014017 0.84007431\n",
            " 0.89673225 0.85527316 0.83884995 0.74233725 0.82327113 0.78143207\n",
            " 0.6665963  0.7921557  0.64118044 0.68614371 0.66001013 0.65203074\n",
            " 0.58642236 0.56586169 0.66089673 0.65515494 0.70970193 0.66452757\n",
            " 0.69437642 0.69218104 0.63569197 0.65266402 0.63780292 0.7267162\n",
            " 0.71388162 0.74191506 0.75002111 0.77222832 0.83049059 0.8194292\n",
            " 0.8289707  0.8125475  0.78776492 0.75162543 0.78426074 0.77974331\n",
            " 0.81326522 0.8141096  0.79473106 0.83336148 0.85898843 0.83901883\n",
            " 0.85628641 0.87486279 0.88782403 0.90095415 0.92793211 0.948535\n",
            " 0.93333615 0.91746179 0.92544119 0.91771511 0.9483239  0.94064004\n",
            " 0.96635143 0.9563033  0.96491598 0.89693719 0.87880224 0.84793341\n",
            " 0.81352729 0.77973831 0.74816561 0.71942967 0.69371516 0.67092502\n",
            " 0.65076083 0.63279957 0.61656678 0.60159343 0.58745927 0.5738197\n",
            " 0.56042141 0.54710823 0.53381526 0.52055871 0.50741577 0.49450472\n",
            " 0.48196253 0.46992463 0.45850843 0.44780329]\n",
            "25 day output [[0.43786368]]\n",
            "26 day input [0.96972895 0.97614625 0.96795575 1.         0.99016297 0.99050072\n",
            " 0.96538039 0.98488559 0.97086887 0.94026007 0.87748037 0.83483915\n",
            " 0.85413324 0.77336823 0.77269273 0.88014017 0.84007431 0.89673225\n",
            " 0.85527316 0.83884995 0.74233725 0.82327113 0.78143207 0.6665963\n",
            " 0.7921557  0.64118044 0.68614371 0.66001013 0.65203074 0.58642236\n",
            " 0.56586169 0.66089673 0.65515494 0.70970193 0.66452757 0.69437642\n",
            " 0.69218104 0.63569197 0.65266402 0.63780292 0.7267162  0.71388162\n",
            " 0.74191506 0.75002111 0.77222832 0.83049059 0.8194292  0.8289707\n",
            " 0.8125475  0.78776492 0.75162543 0.78426074 0.77974331 0.81326522\n",
            " 0.8141096  0.79473106 0.83336148 0.85898843 0.83901883 0.85628641\n",
            " 0.87486279 0.88782403 0.90095415 0.92793211 0.948535   0.93333615\n",
            " 0.91746179 0.92544119 0.91771511 0.9483239  0.94064004 0.96635143\n",
            " 0.9563033  0.96491598 0.89693719 0.87880224 0.84793341 0.81352729\n",
            " 0.77973831 0.74816561 0.71942967 0.69371516 0.67092502 0.65076083\n",
            " 0.63279957 0.61656678 0.60159343 0.58745927 0.5738197  0.56042141\n",
            " 0.54710823 0.53381526 0.52055871 0.50741577 0.49450472 0.48196253\n",
            " 0.46992463 0.45850843 0.44780329 0.43786368]\n",
            "26 day output [[0.42870897]]\n",
            "27 day input [0.97614625 0.96795575 1.         0.99016297 0.99050072 0.96538039\n",
            " 0.98488559 0.97086887 0.94026007 0.87748037 0.83483915 0.85413324\n",
            " 0.77336823 0.77269273 0.88014017 0.84007431 0.89673225 0.85527316\n",
            " 0.83884995 0.74233725 0.82327113 0.78143207 0.6665963  0.7921557\n",
            " 0.64118044 0.68614371 0.66001013 0.65203074 0.58642236 0.56586169\n",
            " 0.66089673 0.65515494 0.70970193 0.66452757 0.69437642 0.69218104\n",
            " 0.63569197 0.65266402 0.63780292 0.7267162  0.71388162 0.74191506\n",
            " 0.75002111 0.77222832 0.83049059 0.8194292  0.8289707  0.8125475\n",
            " 0.78776492 0.75162543 0.78426074 0.77974331 0.81326522 0.8141096\n",
            " 0.79473106 0.83336148 0.85898843 0.83901883 0.85628641 0.87486279\n",
            " 0.88782403 0.90095415 0.92793211 0.948535   0.93333615 0.91746179\n",
            " 0.92544119 0.91771511 0.9483239  0.94064004 0.96635143 0.9563033\n",
            " 0.96491598 0.89693719 0.87880224 0.84793341 0.81352729 0.77973831\n",
            " 0.74816561 0.71942967 0.69371516 0.67092502 0.65076083 0.63279957\n",
            " 0.61656678 0.60159343 0.58745927 0.5738197  0.56042141 0.54710823\n",
            " 0.53381526 0.52055871 0.50741577 0.49450472 0.48196253 0.46992463\n",
            " 0.45850843 0.44780329 0.43786368 0.42870897]\n",
            "27 day output [[0.42032588]]\n",
            "28 day input [0.96795575 1.         0.99016297 0.99050072 0.96538039 0.98488559\n",
            " 0.97086887 0.94026007 0.87748037 0.83483915 0.85413324 0.77336823\n",
            " 0.77269273 0.88014017 0.84007431 0.89673225 0.85527316 0.83884995\n",
            " 0.74233725 0.82327113 0.78143207 0.6665963  0.7921557  0.64118044\n",
            " 0.68614371 0.66001013 0.65203074 0.58642236 0.56586169 0.66089673\n",
            " 0.65515494 0.70970193 0.66452757 0.69437642 0.69218104 0.63569197\n",
            " 0.65266402 0.63780292 0.7267162  0.71388162 0.74191506 0.75002111\n",
            " 0.77222832 0.83049059 0.8194292  0.8289707  0.8125475  0.78776492\n",
            " 0.75162543 0.78426074 0.77974331 0.81326522 0.8141096  0.79473106\n",
            " 0.83336148 0.85898843 0.83901883 0.85628641 0.87486279 0.88782403\n",
            " 0.90095415 0.92793211 0.948535   0.93333615 0.91746179 0.92544119\n",
            " 0.91771511 0.9483239  0.94064004 0.96635143 0.9563033  0.96491598\n",
            " 0.89693719 0.87880224 0.84793341 0.81352729 0.77973831 0.74816561\n",
            " 0.71942967 0.69371516 0.67092502 0.65076083 0.63279957 0.61656678\n",
            " 0.60159343 0.58745927 0.5738197  0.56042141 0.54710823 0.53381526\n",
            " 0.52055871 0.50741577 0.49450472 0.48196253 0.46992463 0.45850843\n",
            " 0.44780329 0.43786368 0.42870897 0.42032588]\n",
            "28 day output [[0.41267407]]\n",
            "29 day input [1.         0.99016297 0.99050072 0.96538039 0.98488559 0.97086887\n",
            " 0.94026007 0.87748037 0.83483915 0.85413324 0.77336823 0.77269273\n",
            " 0.88014017 0.84007431 0.89673225 0.85527316 0.83884995 0.74233725\n",
            " 0.82327113 0.78143207 0.6665963  0.7921557  0.64118044 0.68614371\n",
            " 0.66001013 0.65203074 0.58642236 0.56586169 0.66089673 0.65515494\n",
            " 0.70970193 0.66452757 0.69437642 0.69218104 0.63569197 0.65266402\n",
            " 0.63780292 0.7267162  0.71388162 0.74191506 0.75002111 0.77222832\n",
            " 0.83049059 0.8194292  0.8289707  0.8125475  0.78776492 0.75162543\n",
            " 0.78426074 0.77974331 0.81326522 0.8141096  0.79473106 0.83336148\n",
            " 0.85898843 0.83901883 0.85628641 0.87486279 0.88782403 0.90095415\n",
            " 0.92793211 0.948535   0.93333615 0.91746179 0.92544119 0.91771511\n",
            " 0.9483239  0.94064004 0.96635143 0.9563033  0.96491598 0.89693719\n",
            " 0.87880224 0.84793341 0.81352729 0.77973831 0.74816561 0.71942967\n",
            " 0.69371516 0.67092502 0.65076083 0.63279957 0.61656678 0.60159343\n",
            " 0.58745927 0.5738197  0.56042141 0.54710823 0.53381526 0.52055871\n",
            " 0.50741577 0.49450472 0.48196253 0.46992463 0.45850843 0.44780329\n",
            " 0.43786368 0.42870897 0.42032588 0.41267407]\n",
            "29 day output [[0.40569246]]\n",
            "[[0.8969371914863586], [0.8788022398948669], [0.8479334115982056], [0.8135272860527039], [0.7797383069992065], [0.7481656074523926], [0.7194296717643738], [0.6937151551246643], [0.6709250211715698], [0.6507608294487], [0.6327995657920837], [0.6165667772293091], [0.6015934348106384], [0.5874592661857605], [0.5738196969032288], [0.5604214072227478], [0.5471082329750061], [0.5338152647018433], [0.5205587148666382], [0.507415771484375], [0.4945047199726105], [0.48196253180503845], [0.4699246287345886], [0.4585084319114685], [0.4478032886981964], [0.43786367774009705], [0.4287089705467224], [0.4203258752822876], [0.41267406940460205], [0.405692458152771]]\n"
          ]
        }
      ]
    },
    {
      "cell_type": "code",
      "source": [
        "day_new=np.arange(1,101)\n",
        "day_pred=np.arange(101,131)"
      ],
      "metadata": {
        "id": "Z1561YpWkKUl"
      },
      "execution_count": 50,
      "outputs": []
    },
    {
      "cell_type": "code",
      "source": [
        "len(df3)"
      ],
      "metadata": {
        "colab": {
          "base_uri": "https://localhost:8080/"
        },
        "id": "3r-AO5HVkMqs",
        "outputId": "6decf46a-b8be-47a3-f611-005d66f07fba"
      },
      "execution_count": 51,
      "outputs": [
        {
          "output_type": "execute_result",
          "data": {
            "text/plain": [
              "1258"
            ]
          },
          "metadata": {},
          "execution_count": 51
        }
      ]
    },
    {
      "cell_type": "code",
      "source": [
        "plt.plot(day_new,scaler.inverse_transform(df3[1158:]))\n",
        "plt.plot(day_pred,scaler.inverse_transform(lst_output))"
      ],
      "metadata": {
        "colab": {
          "base_uri": "https://localhost:8080/",
          "height": 282
        },
        "id": "ORi1K2QVkUyG",
        "outputId": "ba09c41c-d4f8-458a-af67-a83ed6b19d32"
      },
      "execution_count": 53,
      "outputs": [
        {
          "output_type": "execute_result",
          "data": {
            "text/plain": [
              "[<matplotlib.lines.Line2D at 0x7fd2053f1510>]"
            ]
          },
          "metadata": {},
          "execution_count": 53
        },
        {
          "output_type": "display_data",
          "data": {
            "text/plain": [
              "<Figure size 432x288 with 1 Axes>"
            ],
            "image/png": "[encoded data removed]"
          },
          "metadata": {
            "needs_background": "light"
          }
        }
      ]
    },
    {
      "cell_type": "code",
      "source": [
        "df4=df3.tolist()\n",
        "df4.extend(lst_output)\n",
        "plt.plot(df4[1200:])"
      ],
      "metadata": {
        "colab": {
          "base_uri": "https://localhost:8080/",
          "height": 282
        },
        "id": "0xoAzRhokhRY",
        "outputId": "97693bb0-8b35-4e87-d96c-95419c36cb83"
      },
      "execution_count": 55,
      "outputs": [
        {
          "output_type": "execute_result",
          "data": {
            "text/plain": [
              "[<matplotlib.lines.Line2D at 0x7fd205514490>]"
            ]
          },
          "metadata": {},
          "execution_count": 55
        },
        {
          "output_type": "display_data",
          "data": {
            "text/plain": [
              "<Figure size 432x288 with 1 Axes>"
            ],
            "image/png": "[encoded data removed]"
          },
          "metadata": {
            "needs_background": "light"
          }
        }
      ]
    },
    {
      "cell_type": "code",
      "source": [
        "df4=scaler.inverse_transform(df4).tolist()"
      ],
      "metadata": {
        "id": "WNbBTSH4kk6h"
      },
      "execution_count": 56,
      "outputs": []
    },
    {
      "cell_type": "code",
      "source": [
        "plt.plot(df4)"
      ],
      "metadata": {
        "colab": {
          "base_uri": "https://localhost:8080/",
          "height": 282
        },
        "id": "GO35IcVYkuCN",
        "outputId": "9d8e3717-d7d0-4774-ea76-96b793054093"
      },
      "execution_count": 57,
      "outputs": [
        {
          "output_type": "execute_result",
          "data": {
            "text/plain": [
              "[<matplotlib.lines.Line2D at 0x7fd205465b50>]"
            ]
          },
          "metadata": {},
          "execution_count": 57
        },
        {
          "output_type": "display_data",
          "data": {
            "text/plain": [
              "<Figure size 432x288 with 1 Axes>"
            ],
            "image/png": "[encoded data removed]"
          },
          "metadata": {
            "needs_background": "light"
          }
        }
      ]
    }
  ]
}